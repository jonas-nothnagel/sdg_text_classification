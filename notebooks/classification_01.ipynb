{
 "cells": [
  {
   "cell_type": "markdown",
   "id": "55433128",
   "metadata": {},
   "source": [
    "# MultiClass Classification with Sklearn"
   ]
  },
  {
   "cell_type": "code",
   "execution_count": 6,
   "id": "d80e7816",
   "metadata": {},
   "outputs": [],
   "source": [
    "import os\n",
    "import sys\n",
    "sys.path.insert(0, os.path.abspath(os.path.join('..', 'src')))\n",
    "sys.setrecursionlimit(20500)\n",
    "import pandas as pd\n",
    "\n",
    "\n",
    "from sklearn.metrics import make_scorer\n",
    "from sklearn.model_selection import train_test_split\n",
    "from sklearn.feature_extraction.text import TfidfVectorizer\n",
    "from sklearn.linear_model import LogisticRegression\n",
    "from sklearn.metrics import precision_score\n",
    "\n",
    "from sklearn.pipeline import Pipeline\n",
    "from sklearn.metrics import accuracy_score, confusion_matrix, classification_report\n",
    "from sklearn.model_selection import train_test_split, cross_val_score, GridSearchCV\n",
    "from sklearn.metrics import accuracy_score, f1_score, precision_score, recall_score, classification_report, confusion_matrix\n",
    "\n",
    "'''import helpers'''\n",
    "import tools as tools"
   ]
  },
  {
   "cell_type": "code",
   "execution_count": 9,
   "id": "0c3fcbee",
   "metadata": {},
   "outputs": [
    {
     "name": "stdout",
     "output_type": "stream",
     "text": [
      "Token will not been saved to git credential helper. Pass `add_to_git_credential=True` if you want to set the git credential as well.\n",
      "Token is valid (permission: write).\n",
      "Your token has been saved to /Users/jonas/.cache/huggingface/token\n",
      "Login successful\n"
     ]
    }
   ],
   "source": [
    "#load dependencies \n",
    "import pandas as pd\n",
    "import numpy as np\n",
    "import transformers\n",
    "from transformers import AutoTokenizer\n",
    "from transformers import AutoModelForSequenceClassification\n",
    "#from datasets import Dataset\n",
    "from transformers import TrainingArguments\n",
    "from transformers import Trainer\n",
    "\n",
    "from argparse import ArgumentParser\n",
    "from sklearn.metrics import mean_absolute_error, accuracy_score\n",
    "import torch \n",
    "from torch import cuda, true_divide\n",
    "#from accelerate import Accelerator\n",
    "\n",
    "from datasets import load_metric\n",
    "\n",
    "#accelerator = Accelerator()\n",
    "#device = accelerator.device\n",
    "\n",
    "from pathlib import Path\n",
    "\n",
    "from huggingface_hub import HfApi\n",
    "from huggingface_hub.commands.user import login\n",
    "\n",
    "api = HfApi()\n",
    "login(token = Path('../data/huggingface_api_key.txt').read_text())"
   ]
  },
  {
   "cell_type": "code",
   "execution_count": 10,
   "id": "d9298107",
   "metadata": {},
   "outputs": [],
   "source": [
    "'''import processed data'''\n",
    "df = pd.read_csv(os.path.abspath(os.path.join('..', 'data/processed/'))+'/data_processed.csv')"
   ]
  },
  {
   "cell_type": "code",
   "execution_count": 11,
   "id": "ccd8cab5",
   "metadata": {},
   "outputs": [
    {
     "data": {
      "text/html": [
       "<div>\n",
       "<style scoped>\n",
       "    .dataframe tbody tr th:only-of-type {\n",
       "        vertical-align: middle;\n",
       "    }\n",
       "\n",
       "    .dataframe tbody tr th {\n",
       "        vertical-align: top;\n",
       "    }\n",
       "\n",
       "    .dataframe thead th {\n",
       "        text-align: right;\n",
       "    }\n",
       "</style>\n",
       "<table border=\"1\" class=\"dataframe\">\n",
       "  <thead>\n",
       "    <tr style=\"text-align: right;\">\n",
       "      <th></th>\n",
       "      <th>doi</th>\n",
       "      <th>text_id</th>\n",
       "      <th>text</th>\n",
       "      <th>sdg</th>\n",
       "      <th>labels_negative</th>\n",
       "      <th>labels_positive</th>\n",
       "      <th>agreement</th>\n",
       "      <th>text_clean</th>\n",
       "    </tr>\n",
       "  </thead>\n",
       "  <tbody>\n",
       "    <tr>\n",
       "      <th>0</th>\n",
       "      <td>10.6027/9789289342698-7-en</td>\n",
       "      <td>00021941702cd84171ff33962197ca1f</td>\n",
       "      <td>\"From a gender perspective, Paulgaard points o...</td>\n",
       "      <td>5</td>\n",
       "      <td>1</td>\n",
       "      <td>8</td>\n",
       "      <td>0.777778</td>\n",
       "      <td>from a gender perspective paulgaard points out...</td>\n",
       "    </tr>\n",
       "    <tr>\n",
       "      <th>1</th>\n",
       "      <td>10.1787/9789264289062-4-en</td>\n",
       "      <td>0004eb64f96e1620cd852603d9cbe4d4</td>\n",
       "      <td>The average figure also masks large difference...</td>\n",
       "      <td>3</td>\n",
       "      <td>1</td>\n",
       "      <td>8</td>\n",
       "      <td>0.777778</td>\n",
       "      <td>the average figure also masks large difference...</td>\n",
       "    </tr>\n",
       "    <tr>\n",
       "      <th>2</th>\n",
       "      <td>10.1787/9789264117563-8-en</td>\n",
       "      <td>000bfb17e9f3a00d4515ab59c5c487e7</td>\n",
       "      <td>The Israel Oceanographic and Limnological Rese...</td>\n",
       "      <td>6</td>\n",
       "      <td>0</td>\n",
       "      <td>3</td>\n",
       "      <td>1.000000</td>\n",
       "      <td>the israel oceanographic and limnological rese...</td>\n",
       "    </tr>\n",
       "    <tr>\n",
       "      <th>3</th>\n",
       "      <td>10.18356/805b1ae4-en</td>\n",
       "      <td>001180f5dd9a821e651ed51e30d0cf8c</td>\n",
       "      <td>Previous chapters have discussed ways to make ...</td>\n",
       "      <td>2</td>\n",
       "      <td>0</td>\n",
       "      <td>3</td>\n",
       "      <td>1.000000</td>\n",
       "      <td>previous chapters have discussed ways to make ...</td>\n",
       "    </tr>\n",
       "    <tr>\n",
       "      <th>4</th>\n",
       "      <td>10.1017/S0008423907070424</td>\n",
       "      <td>00162fc8346ca9cd525d8f87ac2b5352</td>\n",
       "      <td>The “War on Terror” and the Framework of Inter...</td>\n",
       "      <td>16</td>\n",
       "      <td>0</td>\n",
       "      <td>7</td>\n",
       "      <td>1.000000</td>\n",
       "      <td>the war on terror and the framework of interna...</td>\n",
       "    </tr>\n",
       "  </tbody>\n",
       "</table>\n",
       "</div>"
      ],
      "text/plain": [
       "                          doi                           text_id  \\\n",
       "0  10.6027/9789289342698-7-en  00021941702cd84171ff33962197ca1f   \n",
       "1  10.1787/9789264289062-4-en  0004eb64f96e1620cd852603d9cbe4d4   \n",
       "2  10.1787/9789264117563-8-en  000bfb17e9f3a00d4515ab59c5c487e7   \n",
       "3        10.18356/805b1ae4-en  001180f5dd9a821e651ed51e30d0cf8c   \n",
       "4   10.1017/S0008423907070424  00162fc8346ca9cd525d8f87ac2b5352   \n",
       "\n",
       "                                                text  sdg  labels_negative  \\\n",
       "0  \"From a gender perspective, Paulgaard points o...    5                1   \n",
       "1  The average figure also masks large difference...    3                1   \n",
       "2  The Israel Oceanographic and Limnological Rese...    6                0   \n",
       "3  Previous chapters have discussed ways to make ...    2                0   \n",
       "4  The “War on Terror” and the Framework of Inter...   16                0   \n",
       "\n",
       "   labels_positive  agreement  \\\n",
       "0                8   0.777778   \n",
       "1                8   0.777778   \n",
       "2                3   1.000000   \n",
       "3                3   1.000000   \n",
       "4                7   1.000000   \n",
       "\n",
       "                                          text_clean  \n",
       "0  from a gender perspective paulgaard points out...  \n",
       "1  the average figure also masks large difference...  \n",
       "2  the israel oceanographic and limnological rese...  \n",
       "3  previous chapters have discussed ways to make ...  \n",
       "4  the war on terror and the framework of interna...  "
      ]
     },
     "execution_count": 11,
     "metadata": {},
     "output_type": "execute_result"
    }
   ],
   "source": [
    "df.head(5)"
   ]
  },
  {
   "cell_type": "code",
   "execution_count": 25,
   "id": "62fda9d5",
   "metadata": {},
   "outputs": [
    {
     "name": "stdout",
     "output_type": "stream",
     "text": [
      "train size: 13653\n",
      "test size: 5852\n"
     ]
    }
   ],
   "source": [
    "'''split test train'''\n",
    "X_train, X_test, y_train, y_test = train_test_split(df['text_clean'],\n",
    "                                                    df['sdg'].values,\n",
    "                                                    test_size = .3,\n",
    "                                                    stratify=df['sdg'].values,\n",
    "                                                    random_state = 1,\n",
    "                                                    shuffle = True)\n",
    "print('train size:', len(X_train))\n",
    "print('test size:', len(X_test))\n",
    "\n",
    "assert len(set(y_train)) == len(set(y_test)), \"Unequal splits with some labels missing\""
   ]
  },
  {
   "cell_type": "code",
   "execution_count": 26,
   "id": "8736b678",
   "metadata": {},
   "outputs": [],
   "source": [
    "'''extract features using tfidf vecorization:'''\n",
    "vectorizer = TfidfVectorizer(ngram_range = (1,3),min_df = 0.01, max_df = 0.95)\n",
    "vect = vectorizer.fit(X_train)\n",
    "X_train = vect.transform(X_train)\n",
    "X_test = vect.transform(X_test)"
   ]
  },
  {
   "cell_type": "code",
   "execution_count": 27,
   "id": "6a4a3455",
   "metadata": {},
   "outputs": [
    {
     "name": "stderr",
     "output_type": "stream",
     "text": [
      "/Users/jonas/opt/anaconda3/envs/gis/lib/python3.9/site-packages/sklearn/linear_model/_logistic.py:814: ConvergenceWarning: lbfgs failed to converge (status=1):\n",
      "STOP: TOTAL NO. of ITERATIONS REACHED LIMIT.\n",
      "\n",
      "Increase the number of iterations (max_iter) or scale the data as shown in:\n",
      "    https://scikit-learn.org/stable/modules/preprocessing.html\n",
      "Please also refer to the documentation for alternative solver options:\n",
      "    https://scikit-learn.org/stable/modules/linear_model.html#logistic-regression\n",
      "  n_iter_i = _check_optimize_result(\n"
     ]
    },
    {
     "name": "stdout",
     "output_type": "stream",
     "text": [
      "Training accuracy: 90.0 %\n",
      "Test accuracy: 84.0 %\n"
     ]
    },
    {
     "data": {
      "image/png": "[encoded data removed]",
      "text/plain": [
       "<Figure size 720x576 with 2 Axes>"
      ]
     },
     "metadata": {},
     "output_type": "display_data"
    }
   ],
   "source": [
    "clf = LogisticRegression(solver = 'lbfgs', multi_class = 'multinomial').fit(X_train, y_train)\n",
    "print('Training accuracy:', clf.score(X_train, y_train).round(2)*100, \"%\")\n",
    "print('Test accuracy:', clf.score(X_test, y_test).round(2)*100, \"%\")\n",
    "y_hat = clf.predict(X_test)\n",
    "tools.show_labels(y_test, y_hat, title = 'Logistic Regression Clasifier', class_range = (1,17))"
   ]
  },
  {
   "cell_type": "code",
   "execution_count": 28,
   "id": "3a5c343d",
   "metadata": {},
   "outputs": [
    {
     "name": "stdout",
     "output_type": "stream",
     "text": [
      "              precision    recall  f1-score   support\n",
      "\n",
      "           1       0.84      0.81      0.82       339\n",
      "           2       0.79      0.75      0.77       228\n",
      "           3       0.83      0.90      0.86       536\n",
      "           4       0.90      0.96      0.93       678\n",
      "           5       0.90      0.92      0.91       701\n",
      "           6       0.91      0.90      0.90       386\n",
      "           7       0.83      0.89      0.86       533\n",
      "           8       0.61      0.60      0.60       248\n",
      "           9       0.65      0.67      0.66       236\n",
      "          10       0.75      0.51      0.60       180\n",
      "          11       0.78      0.83      0.80       367\n",
      "          12       0.86      0.61      0.71       141\n",
      "          13       0.84      0.81      0.82       314\n",
      "          14       0.89      0.68      0.77       215\n",
      "          15       0.87      0.76      0.81       211\n",
      "          16       0.90      0.96      0.92       539\n",
      "\n",
      "    accuracy                           0.84      5852\n",
      "   macro avg       0.82      0.78      0.80      5852\n",
      "weighted avg       0.84      0.84      0.84      5852\n",
      "\n"
     ]
    }
   ],
   "source": [
    "print(classification_report(y_test, y_hat))"
   ]
  },
  {
   "cell_type": "code",
   "execution_count": 29,
   "id": "1cc0e771",
   "metadata": {},
   "outputs": [
    {
     "name": "stderr",
     "output_type": "stream",
     "text": [
      "/Users/jonas/opt/anaconda3/envs/gis/lib/python3.9/site-packages/sklearn/utils/deprecation.py:87: FutureWarning: Function get_feature_names is deprecated; get_feature_names is deprecated in 1.0 and will be removed in 1.2. Please use get_feature_names_out instead.\n",
      "  warnings.warn(msg, category=FutureWarning)\n"
     ]
    },
    {
     "data": {
      "text/plain": [
       "sdg_1            poverty\n",
       "sdg_2               food\n",
       "sdg_3             health\n",
       "sdg_4          education\n",
       "sdg_5              women\n",
       "sdg_6              water\n",
       "sdg_7             energy\n",
       "sdg_8         employment\n",
       "sdg_9     infrastructure\n",
       "sdg_10        inequality\n",
       "sdg_11             urban\n",
       "sdg_12             waste\n",
       "sdg_13           climate\n",
       "sdg_14         fisheries\n",
       "sdg_15      biodiversity\n",
       "sdg_16               law\n",
       "dtype: object"
      ]
     },
     "metadata": {},
     "output_type": "display_data"
    },
    {
     "name": "stdout",
     "output_type": "stream",
     "text": [
      "Shape:(16, 1)\n"
     ]
    },
    {
     "data": {
      "text/html": [
       "<div>\n",
       "<style scoped>\n",
       "    .dataframe tbody tr th:only-of-type {\n",
       "        vertical-align: middle;\n",
       "    }\n",
       "\n",
       "    .dataframe tbody tr th {\n",
       "        vertical-align: top;\n",
       "    }\n",
       "\n",
       "    .dataframe thead th {\n",
       "        text-align: right;\n",
       "    }\n",
       "</style>\n",
       "<table border=\"1\" class=\"dataframe\">\n",
       "  <thead>\n",
       "    <tr style=\"text-align: right;\">\n",
       "      <th></th>\n",
       "      <th>Keywords</th>\n",
       "    </tr>\n",
       "  </thead>\n",
       "  <tbody>\n",
       "    <tr>\n",
       "      <th>sdg_1</th>\n",
       "      <td>[(poverty, 11.453), (poor, 6.149), (children, ...</td>\n",
       "    </tr>\n",
       "    <tr>\n",
       "      <th>sdg_2</th>\n",
       "      <td>[(food, 9.203), (agricultural, 6.984), (farmer...</td>\n",
       "    </tr>\n",
       "    <tr>\n",
       "      <th>sdg_3</th>\n",
       "      <td>[(health, 10.144), (care, 6.527), (patients, 5...</td>\n",
       "    </tr>\n",
       "    <tr>\n",
       "      <th>sdg_4</th>\n",
       "      <td>[(education, 9.641), (students, 8.628), (schoo...</td>\n",
       "    </tr>\n",
       "    <tr>\n",
       "      <th>sdg_5</th>\n",
       "      <td>[(women, 13.079), (gender, 10.234), (female, 5...</td>\n",
       "    </tr>\n",
       "    <tr>\n",
       "      <th>sdg_6</th>\n",
       "      <td>[(water, 13.349), (groundwater, 5.746), (river...</td>\n",
       "    </tr>\n",
       "    <tr>\n",
       "      <th>sdg_7</th>\n",
       "      <td>[(energy, 10.756), (electricity, 8.347), (powe...</td>\n",
       "    </tr>\n",
       "    <tr>\n",
       "      <th>sdg_8</th>\n",
       "      <td>[(employment, 5.447), (labour, 5.101), (worker...</td>\n",
       "    </tr>\n",
       "    <tr>\n",
       "      <th>sdg_9</th>\n",
       "      <td>[(infrastructure, 5.713), (innovation, 5.278),...</td>\n",
       "    </tr>\n",
       "    <tr>\n",
       "      <th>sdg_10</th>\n",
       "      <td>[(inequality, 8.484), (income, 4.57), (social,...</td>\n",
       "    </tr>\n",
       "    <tr>\n",
       "      <th>sdg_11</th>\n",
       "      <td>[(urban, 7.841), (cities, 7.101), (transport, ...</td>\n",
       "    </tr>\n",
       "    <tr>\n",
       "      <th>sdg_12</th>\n",
       "      <td>[(waste, 7.977), (materials, 3.862), (material...</td>\n",
       "    </tr>\n",
       "    <tr>\n",
       "      <th>sdg_13</th>\n",
       "      <td>[(climate, 9.63), (adaptation, 6.165), (emissi...</td>\n",
       "    </tr>\n",
       "    <tr>\n",
       "      <th>sdg_14</th>\n",
       "      <td>[(fisheries, 9.523), (fish, 7.364), (fishing, ...</td>\n",
       "    </tr>\n",
       "    <tr>\n",
       "      <th>sdg_15</th>\n",
       "      <td>[(biodiversity, 8.855), (forest, 8.274), (fore...</td>\n",
       "    </tr>\n",
       "    <tr>\n",
       "      <th>sdg_16</th>\n",
       "      <td>[(law, 5.552), (rights, 4.608), (conflict, 4.3...</td>\n",
       "    </tr>\n",
       "  </tbody>\n",
       "</table>\n",
       "</div>"
      ],
      "text/plain": [
       "                                                 Keywords\n",
       "sdg_1   [(poverty, 11.453), (poor, 6.149), (children, ...\n",
       "sdg_2   [(food, 9.203), (agricultural, 6.984), (farmer...\n",
       "sdg_3   [(health, 10.144), (care, 6.527), (patients, 5...\n",
       "sdg_4   [(education, 9.641), (students, 8.628), (schoo...\n",
       "sdg_5   [(women, 13.079), (gender, 10.234), (female, 5...\n",
       "sdg_6   [(water, 13.349), (groundwater, 5.746), (river...\n",
       "sdg_7   [(energy, 10.756), (electricity, 8.347), (powe...\n",
       "sdg_8   [(employment, 5.447), (labour, 5.101), (worker...\n",
       "sdg_9   [(infrastructure, 5.713), (innovation, 5.278),...\n",
       "sdg_10  [(inequality, 8.484), (income, 4.57), (social,...\n",
       "sdg_11  [(urban, 7.841), (cities, 7.101), (transport, ...\n",
       "sdg_12  [(waste, 7.977), (materials, 3.862), (material...\n",
       "sdg_13  [(climate, 9.63), (adaptation, 6.165), (emissi...\n",
       "sdg_14  [(fisheries, 9.523), (fish, 7.364), (fishing, ...\n",
       "sdg_15  [(biodiversity, 8.855), (forest, 8.274), (fore...\n",
       "sdg_16  [(law, 5.552), (rights, 4.608), (conflict, 4.3..."
      ]
     },
     "metadata": {},
     "output_type": "display_data"
    }
   ],
   "source": [
    "'''check highest predictors to see if model learnt to make sense out of SDGs'''\n",
    "df_lambda = tools.get_topwords(clf, vectorizer, n = 10, n_models = 16, show_idxmax = True)\n",
    "print(f'Shape:{df_lambda.shape}')\n",
    "display(df_lambda)"
   ]
  },
  {
   "cell_type": "code",
   "execution_count": 12,
   "id": "2a0ed934",
   "metadata": {},
   "outputs": [],
   "source": [
    "from datasets import load_metric\n",
    "import numpy as np\n",
    "\n",
    "\n",
    "def compute_metrics_fn(eval_preds):\n",
    "  metrics = dict()\n",
    "  \n",
    "  accuracy_metric = load_metric('accuracy')\n",
    "  precision_metric = load_metric('precision')\n",
    "  recall_metric = load_metric('recall')\n",
    "  f1_metric = load_metric('f1')\n",
    "\n",
    "\n",
    "  logits = eval_preds.predictions\n",
    "  labels = eval_preds.label_ids\n",
    "  preds = np.argmax(logits, axis=-1)  \n",
    "  \n",
    "  metrics.update(accuracy_metric.compute(predictions=preds, references=labels))\n",
    "  metrics.update(precision_metric.compute(predictions=preds, references=labels, average='weighted'))\n",
    "  metrics.update(recall_metric.compute(predictions=preds, references=labels, average='weighted'))\n",
    "  metrics.update(f1_metric.compute(predictions=preds, references=labels, average='weighted'))\n",
    "\n",
    "\n",
    "  return metrics\n"
   ]
  },
  {
   "cell_type": "code",
   "execution_count": 2,
   "id": "cb6591fc",
   "metadata": {},
   "outputs": [
    {
     "name": "stderr",
     "output_type": "stream",
     "text": [
      "\u001b[34m\u001b[1mwandb\u001b[0m: Currently logged in as: \u001b[33mjonas-nothnagel\u001b[0m. Use \u001b[1m`wandb login --relogin`\u001b[0m to force relogin\n",
      "\u001b[34m\u001b[1mwandb\u001b[0m: \u001b[33mWARNING\u001b[0m If you're specifying your api key in code, ensure this code is not shared publicly.\n",
      "\u001b[34m\u001b[1mwandb\u001b[0m: \u001b[33mWARNING\u001b[0m Consider setting the WANDB_API_KEY environment variable, or running `wandb login` from the command line.\n",
      "\u001b[34m\u001b[1mwandb\u001b[0m: Appending key for api.wandb.ai to your netrc file: /Users/jonas/.netrc\n"
     ]
    },
    {
     "data": {
      "text/plain": [
       "True"
      ]
     },
     "execution_count": 2,
     "metadata": {},
     "output_type": "execute_result"
    }
   ],
   "source": [
    "import wandb\n",
    "from pathlib import Path\n",
    "wandb_api_key = Path('../data/wandb_api_key.txt').read_text()\n",
    "\n",
    "wandb.login(key=wandb_api_key)"
   ]
  },
  {
   "cell_type": "code",
   "execution_count": 3,
   "id": "5a069c45",
   "metadata": {},
   "outputs": [
    {
     "name": "stdout",
     "output_type": "stream",
     "text": [
      "Create sweep with ID: nptl26ml\n",
      "Sweep URL: https://wandb.ai/jonas-nothnagel/sdg-classifier-roberta-base/sweeps/nptl26ml\n"
     ]
    }
   ],
   "source": [
    "sweep_config = {\n",
    "    'method': 'random'\n",
    "}\n",
    "\n",
    "# hyperparameters\n",
    "parameters_dict = {\n",
    "    'epochs': {\n",
    "        'value': 1\n",
    "        },\n",
    "    'batch_size': {\n",
    "        'values': [8, 16, 32, 64]\n",
    "        },\n",
    "    'learning_rate': {\n",
    "        'distribution': 'log_uniform_values',\n",
    "        'min': 1e-5,\n",
    "        'max': 1e-3\n",
    "    },\n",
    "    'weight_decay': {\n",
    "        'values': [0.0, 0.1, 0.2, 0.3, 0.4, 0.5]\n",
    "    },\n",
    "}\n",
    "\n",
    "\n",
    "sweep_config['parameters'] = parameters_dict\n",
    "sweep_id = wandb.sweep(sweep_config, project='sdg-classifier-roberta-base')"
   ]
  },
  {
   "cell_type": "code",
   "execution_count": 10,
   "id": "e4994c16",
   "metadata": {},
   "outputs": [
    {
     "data": {
      "text/plain": [
       "{'method': 'random',\n",
       " 'parameters': {'epochs': {'value': 1},\n",
       "  'batch_size': {'values': [8, 16, 32, 64]},\n",
       "  'learning_rate': {'distribution': 'log_uniform_values',\n",
       "   'min': 1e-05,\n",
       "   'max': 0.001},\n",
       "  'weight_decay': {'values': [0.0, 0.1, 0.2, 0.3, 0.4, 0.5]}}}"
      ]
     },
     "execution_count": 10,
     "metadata": {},
     "output_type": "execute_result"
    }
   ],
   "source": [
    "sweep_config"
   ]
  },
  {
   "cell_type": "code",
   "execution_count": 67,
   "id": "8565ee3b",
   "metadata": {},
   "outputs": [],
   "source": [
    "\n",
    "import pandas as pd\n",
    "import numpy as np\n",
    "import transformers\n",
    "from transformers import AutoTokenizer\n",
    "from transformers import AutoModelForSequenceClassification\n",
    "from datasets import Dataset\n",
    "from transformers import TrainingArguments\n",
    "from transformers import Trainer \n",
    "\n",
    "from argparse import ArgumentParser\n",
    "from sklearn.metrics import mean_absolute_error, accuracy_score\n",
    "import torch \n",
    "from torch import cuda, true_divide\n",
    "\n",
    "from datasets import load_metric\n",
    "\n"
   ]
  },
  {
   "cell_type": "code",
   "execution_count": 5,
   "id": "147e44c1",
   "metadata": {},
   "outputs": [],
   "source": [
    "# make labels\n",
    "def make_labels():\n",
    "\n",
    "    labels = df_osdg['target'].unique()\n",
    "    labels.sort()\n",
    "    num_labels = len(labels)\n",
    "    id2label = {idx:label for idx, label in enumerate(labels)}\n",
    "    label2id = {label:idx for idx, label in enumerate(labels)}\n",
    "\n",
    "    return labels, num_labels, id2label, label2id\n",
    "\n",
    "# set-up tokenizer\n",
    "def tokenize_function(examples):\n",
    "\n",
    "    return tokenizer(examples[\"text_clean\"],  truncation=True, padding=True)"
   ]
  },
  {
   "cell_type": "code",
   "execution_count": 6,
   "id": "5eb98e9a",
   "metadata": {},
   "outputs": [],
   "source": [
    "# map labels\n",
    "def map_labels(example):\n",
    "    # Shift labels to start from 0\n",
    "    label_id = label2id[example[\"target\"]]\n",
    "    return {\"labels\": label_id, \"label_name\": id2label[label_id]}\n"
   ]
  },
  {
   "cell_type": "code",
   "execution_count": 68,
   "id": "8d6b2bab",
   "metadata": {},
   "outputs": [],
   "source": [
    "df_osdg = pd.read_csv(\"../data/processed/data_transformer.csv\")\n",
    "df_osdg['target'] = df_osdg['target'].astype(str)\n",
    "dataset =  Dataset.from_pandas(df_osdg)\n"
   ]
  },
  {
   "cell_type": "code",
   "execution_count": 69,
   "id": "677bc24d",
   "metadata": {},
   "outputs": [
    {
     "data": {
      "text/plain": [
       "Dataset({\n",
       "    features: ['text_clean', 'target'],\n",
       "    num_rows: 18033\n",
       "})"
      ]
     },
     "execution_count": 69,
     "metadata": {},
     "output_type": "execute_result"
    }
   ],
   "source": [
    "dataset"
   ]
  },
  {
   "cell_type": "code",
   "execution_count": 70,
   "id": "b2124874",
   "metadata": {},
   "outputs": [],
   "source": [
    "dataset = dataset.train_test_split(test_size=0.2)"
   ]
  },
  {
   "cell_type": "code",
   "execution_count": 10,
   "id": "6114310e",
   "metadata": {},
   "outputs": [
    {
     "data": {
      "application/vnd.jupyter.widget-view+json": {
       "model_id": "6e4cf0d1172e4bdba0d9719c0941d668",
       "version_major": 2,
       "version_minor": 0
      },
      "text/plain": [
       "  0%|          | 0/18033 [00:00<?, ?ex/s]"
      ]
     },
     "metadata": {},
     "output_type": "display_data"
    }
   ],
   "source": [
    "# make labels\n",
    "labels, num_labels, id2label, label2id = make_labels()\n",
    "dataset = dataset.map(map_labels)"
   ]
  },
  {
   "cell_type": "code",
   "execution_count": 11,
   "id": "e1045b82",
   "metadata": {},
   "outputs": [
    {
     "data": {
      "text/plain": [
       "Dataset({\n",
       "    features: ['text_clean', 'target', 'labels', 'label_name'],\n",
       "    num_rows: 18033\n",
       "})"
      ]
     },
     "execution_count": 11,
     "metadata": {},
     "output_type": "execute_result"
    }
   ],
   "source": [
    "dataset"
   ]
  }
 ],
 "metadata": {
  "kernelspec": {
   "display_name": "Python 3 (ipykernel)",
   "language": "python",
   "name": "python3"
  },
  "language_info": {
   "codemirror_mode": {
    "name": "ipython",
    "version": 3
   },
   "file_extension": ".py",
   "mimetype": "text/x-python",
   "name": "python",
   "nbconvert_exporter": "python",
   "pygments_lexer": "ipython3",
   "version": "3.10.13"
  }
 },
 "nbformat": 4,
 "nbformat_minor": 5
}
