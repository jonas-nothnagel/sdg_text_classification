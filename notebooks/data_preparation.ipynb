{
 "cells": [
  {
   "cell_type": "code",
   "execution_count": 8,
   "metadata": {},
   "outputs": [
    {
     "name": "stdout",
     "output_type": "stream",
     "text": [
      "transformers: 4.32.1\n"
     ]
    }
   ],
   "source": [
    "'''basics'''\n",
    "import pandas as pd\n",
    "import transformers\n",
    "print('transformers: {}'.format(transformers.__version__))\n",
    "\n",
    "'''visualisations'''\n",
    "import plotly.express as px\n",
    "\n",
    "'''set path'''\n",
    "import os\n",
    "import sys\n",
    "sys.path.insert(0, os.path.abspath(os.path.join('..', 'src')))\n",
    "\n",
    "'''import helper functions'''\n",
    "import clean as clean"
   ]
  },
  {
   "cell_type": "code",
   "execution_count": 13,
   "metadata": {},
   "outputs": [
    {
     "name": "stdout",
     "output_type": "stream",
     "text": [
      "(42635, 7)\n"
     ]
    },
    {
     "data": {
      "text/html": [
       "<div>\n",
       "<style scoped>\n",
       "    .dataframe tbody tr th:only-of-type {\n",
       "        vertical-align: middle;\n",
       "    }\n",
       "\n",
       "    .dataframe tbody tr th {\n",
       "        vertical-align: top;\n",
       "    }\n",
       "\n",
       "    .dataframe thead th {\n",
       "        text-align: right;\n",
       "    }\n",
       "</style>\n",
       "<table border=\"1\" class=\"dataframe\">\n",
       "  <thead>\n",
       "    <tr style=\"text-align: right;\">\n",
       "      <th></th>\n",
       "      <th>doi</th>\n",
       "      <th>text_id</th>\n",
       "      <th>text</th>\n",
       "      <th>sdg</th>\n",
       "      <th>labels_negative</th>\n",
       "      <th>labels_positive</th>\n",
       "      <th>agreement</th>\n",
       "    </tr>\n",
       "  </thead>\n",
       "  <tbody>\n",
       "    <tr>\n",
       "      <th>0</th>\n",
       "      <td>10.6027/9789289342698-7-en</td>\n",
       "      <td>00021941702cd84171ff33962197ca1f</td>\n",
       "      <td>\"From a gender perspective, Paulgaard points o...</td>\n",
       "      <td>5</td>\n",
       "      <td>1</td>\n",
       "      <td>8</td>\n",
       "      <td>0.777778</td>\n",
       "    </tr>\n",
       "    <tr>\n",
       "      <th>1</th>\n",
       "      <td>10.18356/eca72908-en</td>\n",
       "      <td>00028349a7f9b2485ff344ae44ccfd6b</td>\n",
       "      <td>Labour legislation regulates maximum working h...</td>\n",
       "      <td>11</td>\n",
       "      <td>2</td>\n",
       "      <td>1</td>\n",
       "      <td>0.333333</td>\n",
       "    </tr>\n",
       "    <tr>\n",
       "      <th>2</th>\n",
       "      <td>10.1787/9789264289062-4-en</td>\n",
       "      <td>0004eb64f96e1620cd852603d9cbe4d4</td>\n",
       "      <td>The average figure also masks large difference...</td>\n",
       "      <td>3</td>\n",
       "      <td>1</td>\n",
       "      <td>8</td>\n",
       "      <td>0.777778</td>\n",
       "    </tr>\n",
       "    <tr>\n",
       "      <th>3</th>\n",
       "      <td>10.1787/3726edff-en</td>\n",
       "      <td>0005d3e8b213d9e2cb967666e1aca2e9</td>\n",
       "      <td>Applied research is directed “primarily toward...</td>\n",
       "      <td>9</td>\n",
       "      <td>3</td>\n",
       "      <td>6</td>\n",
       "      <td>0.333333</td>\n",
       "    </tr>\n",
       "    <tr>\n",
       "      <th>4</th>\n",
       "      <td>10.1787/5k9b7bn5qzvd-en</td>\n",
       "      <td>0006a887475ccfa5a7f5f51d4ac83d02</td>\n",
       "      <td>The extent to which they are akin to corruptio...</td>\n",
       "      <td>3</td>\n",
       "      <td>1</td>\n",
       "      <td>2</td>\n",
       "      <td>0.333333</td>\n",
       "    </tr>\n",
       "  </tbody>\n",
       "</table>\n",
       "</div>"
      ],
      "text/plain": [
       "                          doi                           text_id  \\\n",
       "0  10.6027/9789289342698-7-en  00021941702cd84171ff33962197ca1f   \n",
       "1        10.18356/eca72908-en  00028349a7f9b2485ff344ae44ccfd6b   \n",
       "2  10.1787/9789264289062-4-en  0004eb64f96e1620cd852603d9cbe4d4   \n",
       "3         10.1787/3726edff-en  0005d3e8b213d9e2cb967666e1aca2e9   \n",
       "4     10.1787/5k9b7bn5qzvd-en  0006a887475ccfa5a7f5f51d4ac83d02   \n",
       "\n",
       "                                                text  sdg  labels_negative  \\\n",
       "0  \"From a gender perspective, Paulgaard points o...    5                1   \n",
       "1  Labour legislation regulates maximum working h...   11                2   \n",
       "2  The average figure also masks large difference...    3                1   \n",
       "3  Applied research is directed “primarily toward...    9                3   \n",
       "4  The extent to which they are akin to corruptio...    3                1   \n",
       "\n",
       "   labels_positive  agreement  \n",
       "0                8   0.777778  \n",
       "1                1   0.333333  \n",
       "2                8   0.777778  \n",
       "3                6   0.333333  \n",
       "4                2   0.333333  "
      ]
     },
     "execution_count": 13,
     "metadata": {},
     "output_type": "execute_result"
    }
   ],
   "source": [
    "df= pd.read_csv('../data/raw/osdg-community-data-v2024-01-01.csv', sep='\\\\t', engine='python')\n",
    "#df= pd.read_csv('../data/raw/osdg-community-data-v2023-07-01.csv', sep='\\\\t', engine='python')\n",
    "#df= pd.read_csv('../data/raw/osdg-community-data-v2023-01-01.csv', sep='\\\\t', engine='python')\n",
    "#df= pd.read_csv('../data/raw/osdg-community-data-v2022-10-01.csv', sep='\\\\t', engine='python')\n",
    "#df= pd.read_csv('../data/raw/osdg-community-data-v2022-07-01.csv',sep='\\t')\n",
    "#df= pd.read_csv('../data/raw/osdg-community-dataset-v2022-04-01.csv',sep='\\t')\n",
    "\n",
    "\"\"\"\n",
    "only uncomment if using 2023-01-01 data to take care of typos in column names:\n",
    "\"\"\"\n",
    "# df.columns = df.columns.str.strip('\\\"')\n",
    "# df[\"doi\"] = df[\"doi\"].str.strip('\\\"')\n",
    "# df[\"agreement\"] = df[\"agreement\"].str.strip('\\\"')\n",
    "# df[\"agreement\"] = df[\"agreement\"].astype(float)\n",
    "\n",
    "\n",
    "print(df.shape)\n",
    "df.head(5)"
   ]
  },
  {
   "cell_type": "code",
   "execution_count": 14,
   "metadata": {},
   "outputs": [
    {
     "name": "stdout",
     "output_type": "stream",
     "text": [
      "average text length:  94\n",
      "stdev text length:  31\n",
      "max text length:  226\n",
      "suitable for standard transformer models!\n"
     ]
    }
   ],
   "source": [
    "print('average text length: ', round(df.text.str.split().str.len().mean()))\n",
    "print('stdev text length: ', round(df.text.str.split().str.len().std()))\n",
    "print('max text length: ', round(df.text.str.split().str.len().max()))\n",
    "\n",
    "if df.text.str.split().str.len().mean() < 300:\n",
    "    print(\"suitable for standard transformer models!\")"
   ]
  },
  {
   "cell_type": "code",
   "execution_count": 15,
   "metadata": {},
   "outputs": [
    {
     "ename": "ValueError",
     "evalue": "Mime type rendering requires nbformat>=4.2.0 but it is not installed",
     "output_type": "error",
     "traceback": [
      "\u001b[0;31m---------------------------------------------------------------------------\u001b[0m",
      "\u001b[0;31mValueError\u001b[0m                                Traceback (most recent call last)",
      "Cell \u001b[0;32mIn[15], line 10\u001b[0m\n\u001b[1;32m      2\u001b[0m fig \u001b[38;5;241m=\u001b[39m px\u001b[38;5;241m.\u001b[39mhistogram(df, x\u001b[38;5;241m=\u001b[39m\u001b[38;5;124m\"\u001b[39m\u001b[38;5;124msdg\u001b[39m\u001b[38;5;124m\"\u001b[39m,  nbins\u001b[38;5;241m=\u001b[39m\u001b[38;5;241m35\u001b[39m, title\u001b[38;5;241m=\u001b[39m\u001b[38;5;124m\"\u001b[39m\u001b[38;5;124mSDG Distribution\u001b[39m\u001b[38;5;124m\"\u001b[39m)\n\u001b[1;32m      3\u001b[0m fig\u001b[38;5;241m.\u001b[39mupdate_layout(\n\u001b[1;32m      4\u001b[0m     xaxis \u001b[38;5;241m=\u001b[39m \u001b[38;5;28mdict\u001b[39m(\n\u001b[1;32m      5\u001b[0m         tickmode \u001b[38;5;241m=\u001b[39m \u001b[38;5;124m'\u001b[39m\u001b[38;5;124mlinear\u001b[39m\u001b[38;5;124m'\u001b[39m,\n\u001b[0;32m   (...)\u001b[0m\n\u001b[1;32m      8\u001b[0m     )\n\u001b[1;32m      9\u001b[0m )\n\u001b[0;32m---> 10\u001b[0m \u001b[43mfig\u001b[49m\u001b[38;5;241;43m.\u001b[39;49m\u001b[43mshow\u001b[49m\u001b[43m(\u001b[49m\u001b[43m)\u001b[49m\n\u001b[1;32m     12\u001b[0m \u001b[38;5;28mprint\u001b[39m(\u001b[38;5;124m\"\u001b[39m\u001b[38;5;124mnot evenly distributed - check when training multilabel/mutliclass classifier\u001b[39m\u001b[38;5;124m\"\u001b[39m)\n\u001b[1;32m     14\u001b[0m \u001b[38;5;28mprint\u001b[39m(\u001b[38;5;124m\"\u001b[39m\u001b[38;5;124mWe see that only 16 SDGs are included. SDG 17 seem to be missing. It is an overarching SDG - so it is understandable that annotating for it is difficult\u001b[39m\u001b[38;5;124m\"\u001b[39m)\n",
      "File \u001b[0;32m~/miniconda3/envs/sdg/lib/python3.10/site-packages/plotly/basedatatypes.py:3410\u001b[0m, in \u001b[0;36mBaseFigure.show\u001b[0;34m(self, *args, **kwargs)\u001b[0m\n\u001b[1;32m   3377\u001b[0m \u001b[38;5;250m\u001b[39m\u001b[38;5;124;03m\"\"\"\u001b[39;00m\n\u001b[1;32m   3378\u001b[0m \u001b[38;5;124;03mShow a figure using either the default renderer(s) or the renderer(s)\u001b[39;00m\n\u001b[1;32m   3379\u001b[0m \u001b[38;5;124;03mspecified by the renderer argument\u001b[39;00m\n\u001b[0;32m   (...)\u001b[0m\n\u001b[1;32m   3406\u001b[0m \u001b[38;5;124;03mNone\u001b[39;00m\n\u001b[1;32m   3407\u001b[0m \u001b[38;5;124;03m\"\"\"\u001b[39;00m\n\u001b[1;32m   3408\u001b[0m \u001b[38;5;28;01mimport\u001b[39;00m \u001b[38;5;21;01mplotly\u001b[39;00m\u001b[38;5;21;01m.\u001b[39;00m\u001b[38;5;21;01mio\u001b[39;00m \u001b[38;5;28;01mas\u001b[39;00m \u001b[38;5;21;01mpio\u001b[39;00m\n\u001b[0;32m-> 3410\u001b[0m \u001b[38;5;28;01mreturn\u001b[39;00m \u001b[43mpio\u001b[49m\u001b[38;5;241;43m.\u001b[39;49m\u001b[43mshow\u001b[49m\u001b[43m(\u001b[49m\u001b[38;5;28;43mself\u001b[39;49m\u001b[43m,\u001b[49m\u001b[43m \u001b[49m\u001b[38;5;241;43m*\u001b[39;49m\u001b[43margs\u001b[49m\u001b[43m,\u001b[49m\u001b[43m \u001b[49m\u001b[38;5;241;43m*\u001b[39;49m\u001b[38;5;241;43m*\u001b[39;49m\u001b[43mkwargs\u001b[49m\u001b[43m)\u001b[49m\n",
      "File \u001b[0;32m~/miniconda3/envs/sdg/lib/python3.10/site-packages/plotly/io/_renderers.py:394\u001b[0m, in \u001b[0;36mshow\u001b[0;34m(fig, renderer, validate, **kwargs)\u001b[0m\n\u001b[1;32m    389\u001b[0m         \u001b[38;5;28;01mraise\u001b[39;00m \u001b[38;5;167;01mValueError\u001b[39;00m(\n\u001b[1;32m    390\u001b[0m             \u001b[38;5;124m\"\u001b[39m\u001b[38;5;124mMime type rendering requires ipython but it is not installed\u001b[39m\u001b[38;5;124m\"\u001b[39m\n\u001b[1;32m    391\u001b[0m         )\n\u001b[1;32m    393\u001b[0m     \u001b[38;5;28;01mif\u001b[39;00m \u001b[38;5;129;01mnot\u001b[39;00m nbformat \u001b[38;5;129;01mor\u001b[39;00m Version(nbformat\u001b[38;5;241m.\u001b[39m__version__) \u001b[38;5;241m<\u001b[39m Version(\u001b[38;5;124m\"\u001b[39m\u001b[38;5;124m4.2.0\u001b[39m\u001b[38;5;124m\"\u001b[39m):\n\u001b[0;32m--> 394\u001b[0m         \u001b[38;5;28;01mraise\u001b[39;00m \u001b[38;5;167;01mValueError\u001b[39;00m(\n\u001b[1;32m    395\u001b[0m             \u001b[38;5;124m\"\u001b[39m\u001b[38;5;124mMime type rendering requires nbformat>=4.2.0 but it is not installed\u001b[39m\u001b[38;5;124m\"\u001b[39m\n\u001b[1;32m    396\u001b[0m         )\n\u001b[1;32m    398\u001b[0m     ipython_display\u001b[38;5;241m.\u001b[39mdisplay(bundle, raw\u001b[38;5;241m=\u001b[39m\u001b[38;5;28;01mTrue\u001b[39;00m)\n\u001b[1;32m    400\u001b[0m \u001b[38;5;66;03m# external renderers\u001b[39;00m\n",
      "\u001b[0;31mValueError\u001b[0m: Mime type rendering requires nbformat>=4.2.0 but it is not installed"
     ]
    }
   ],
   "source": [
    "'''plot sdg distribution'''\n",
    "fig = px.histogram(df, x=\"sdg\",  nbins=35, title=\"SDG Distribution\")\n",
    "fig.update_layout(\n",
    "    xaxis = dict(\n",
    "        tickmode = 'linear',\n",
    "        tick0 = 1,\n",
    "        dtick = 1\n",
    "    )\n",
    ")\n",
    "fig.show()\n",
    "\n",
    "print(\"not evenly distributed - check when training multilabel/mutliclass classifier\")\n",
    "\n",
    "print(\"We see that only 16 SDGs are included. SDG 17 seem to be missing. It is an overarching SDG - so it is understandable that annotating for it is difficult\")"
   ]
  },
  {
   "cell_type": "code",
   "execution_count": 7,
   "metadata": {},
   "outputs": [
    {
     "data": {
      "application/vnd.plotly.v1+json": {
       "config": {
        "plotlyServerURL": "https://plot.ly"
       },
       "data": [
        {
         "alignmentgroup": "True",
         "hovertemplate": "variable=labels_negative<br>sdg=%{x}<br>value=%{y}<extra></extra>",
         "legendgroup": "labels_negative",
         "marker": {
          "color": "#636efa",
          "pattern": {
           "shape": ""
          }
         },
         "name": "labels_negative",
         "offsetgroup": "labels_negative",
         "orientation": "v",
         "showlegend": true,
         "textposition": "auto",
         "type": "bar",
         "x": [
          1,
          2,
          3,
          4,
          5,
          6,
          7,
          8,
          9,
          10,
          11,
          12,
          13,
          14,
          15,
          16
         ],
         "xaxis": "x",
         "y": [
          5191,
          5167,
          2597,
          5568,
          8139,
          4230,
          4473,
          1471,
          3840,
          5751,
          2699,
          3571,
          3499,
          1974,
          4833,
          8639
         ],
         "yaxis": "y"
        },
        {
         "alignmentgroup": "True",
         "hovertemplate": "variable=labels_positive<br>sdg=%{x}<br>value=%{y}<extra></extra>",
         "legendgroup": "labels_positive",
         "marker": {
          "color": "#EF553B",
          "pattern": {
           "shape": ""
          }
         },
         "name": "labels_positive",
         "offsetgroup": "labels_positive",
         "orientation": "v",
         "showlegend": true,
         "textposition": "auto",
         "type": "bar",
         "x": [
          1,
          2,
          3,
          4,
          5,
          6,
          7,
          8,
          9,
          10,
          11,
          12,
          13,
          14,
          15,
          16
         ],
         "xaxis": "x",
         "y": [
          13577,
          11136,
          15957,
          22719,
          23305,
          10646,
          18424,
          6795,
          16386,
          12515,
          11968,
          11280,
          11876,
          6175,
          14282,
          24989
         ],
         "yaxis": "y"
        }
       ],
       "layout": {
        "barmode": "relative",
        "legend": {
         "title": {
          "text": "variable"
         },
         "tracegroupgap": 0
        },
        "template": {
         "data": {
          "bar": [
           {
            "error_x": {
             "color": "#2a3f5f"
            },
            "error_y": {
             "color": "#2a3f5f"
            },
            "marker": {
             "line": {
              "color": "#E5ECF6",
              "width": 0.5
             },
             "pattern": {
              "fillmode": "overlay",
              "size": 10,
              "solidity": 0.2
             }
            },
            "type": "bar"
           }
          ],
          "barpolar": [
           {
            "marker": {
             "line": {
              "color": "#E5ECF6",
              "width": 0.5
             },
             "pattern": {
              "fillmode": "overlay",
              "size": 10,
              "solidity": 0.2
             }
            },
            "type": "barpolar"
           }
          ],
          "carpet": [
           {
            "aaxis": {
             "endlinecolor": "#2a3f5f",
             "gridcolor": "white",
             "linecolor": "white",
             "minorgridcolor": "white",
             "startlinecolor": "#2a3f5f"
            },
            "baxis": {
             "endlinecolor": "#2a3f5f",
             "gridcolor": "white",
             "linecolor": "white",
             "minorgridcolor": "white",
             "startlinecolor": "#2a3f5f"
            },
            "type": "carpet"
           }
          ],
          "choropleth": [
           {
            "colorbar": {
             "outlinewidth": 0,
             "ticks": ""
            },
            "type": "choropleth"
           }
          ],
          "contour": [
           {
            "colorbar": {
             "outlinewidth": 0,
             "ticks": ""
            },
            "colorscale": [
             [
              0,
              "#0d0887"
             ],
             [
              0.1111111111111111,
              "#46039f"
             ],
             [
              0.2222222222222222,
              "#7201a8"
             ],
             [
              0.3333333333333333,
              "#9c179e"
             ],
             [
              0.4444444444444444,
              "#bd3786"
             ],
             [
              0.5555555555555556,
              "#d8576b"
             ],
             [
              0.6666666666666666,
              "#ed7953"
             ],
             [
              0.7777777777777778,
              "#fb9f3a"
             ],
             [
              0.8888888888888888,
              "#fdca26"
             ],
             [
              1,
              "#f0f921"
             ]
            ],
            "type": "contour"
           }
          ],
          "contourcarpet": [
           {
            "colorbar": {
             "outlinewidth": 0,
             "ticks": ""
            },
            "type": "contourcarpet"
           }
          ],
          "heatmap": [
           {
            "colorbar": {
             "outlinewidth": 0,
             "ticks": ""
            },
            "colorscale": [
             [
              0,
              "#0d0887"
             ],
             [
              0.1111111111111111,
              "#46039f"
             ],
             [
              0.2222222222222222,
              "#7201a8"
             ],
             [
              0.3333333333333333,
              "#9c179e"
             ],
             [
              0.4444444444444444,
              "#bd3786"
             ],
             [
              0.5555555555555556,
              "#d8576b"
             ],
             [
              0.6666666666666666,
              "#ed7953"
             ],
             [
              0.7777777777777778,
              "#fb9f3a"
             ],
             [
              0.8888888888888888,
              "#fdca26"
             ],
             [
              1,
              "#f0f921"
             ]
            ],
            "type": "heatmap"
           }
          ],
          "heatmapgl": [
           {
            "colorbar": {
             "outlinewidth": 0,
             "ticks": ""
            },
            "colorscale": [
             [
              0,
              "#0d0887"
             ],
             [
              0.1111111111111111,
              "#46039f"
             ],
             [
              0.2222222222222222,
              "#7201a8"
             ],
             [
              0.3333333333333333,
              "#9c179e"
             ],
             [
              0.4444444444444444,
              "#bd3786"
             ],
             [
              0.5555555555555556,
              "#d8576b"
             ],
             [
              0.6666666666666666,
              "#ed7953"
             ],
             [
              0.7777777777777778,
              "#fb9f3a"
             ],
             [
              0.8888888888888888,
              "#fdca26"
             ],
             [
              1,
              "#f0f921"
             ]
            ],
            "type": "heatmapgl"
           }
          ],
          "histogram": [
           {
            "marker": {
             "pattern": {
              "fillmode": "overlay",
              "size": 10,
              "solidity": 0.2
             }
            },
            "type": "histogram"
           }
          ],
          "histogram2d": [
           {
            "colorbar": {
             "outlinewidth": 0,
             "ticks": ""
            },
            "colorscale": [
             [
              0,
              "#0d0887"
             ],
             [
              0.1111111111111111,
              "#46039f"
             ],
             [
              0.2222222222222222,
              "#7201a8"
             ],
             [
              0.3333333333333333,
              "#9c179e"
             ],
             [
              0.4444444444444444,
              "#bd3786"
             ],
             [
              0.5555555555555556,
              "#d8576b"
             ],
             [
              0.6666666666666666,
              "#ed7953"
             ],
             [
              0.7777777777777778,
              "#fb9f3a"
             ],
             [
              0.8888888888888888,
              "#fdca26"
             ],
             [
              1,
              "#f0f921"
             ]
            ],
            "type": "histogram2d"
           }
          ],
          "histogram2dcontour": [
           {
            "colorbar": {
             "outlinewidth": 0,
             "ticks": ""
            },
            "colorscale": [
             [
              0,
              "#0d0887"
             ],
             [
              0.1111111111111111,
              "#46039f"
             ],
             [
              0.2222222222222222,
              "#7201a8"
             ],
             [
              0.3333333333333333,
              "#9c179e"
             ],
             [
              0.4444444444444444,
              "#bd3786"
             ],
             [
              0.5555555555555556,
              "#d8576b"
             ],
             [
              0.6666666666666666,
              "#ed7953"
             ],
             [
              0.7777777777777778,
              "#fb9f3a"
             ],
             [
              0.8888888888888888,
              "#fdca26"
             ],
             [
              1,
              "#f0f921"
             ]
            ],
            "type": "histogram2dcontour"
           }
          ],
          "mesh3d": [
           {
            "colorbar": {
             "outlinewidth": 0,
             "ticks": ""
            },
            "type": "mesh3d"
           }
          ],
          "parcoords": [
           {
            "line": {
             "colorbar": {
              "outlinewidth": 0,
              "ticks": ""
             }
            },
            "type": "parcoords"
           }
          ],
          "pie": [
           {
            "automargin": true,
            "type": "pie"
           }
          ],
          "scatter": [
           {
            "fillpattern": {
             "fillmode": "overlay",
             "size": 10,
             "solidity": 0.2
            },
            "type": "scatter"
           }
          ],
          "scatter3d": [
           {
            "line": {
             "colorbar": {
              "outlinewidth": 0,
              "ticks": ""
             }
            },
            "marker": {
             "colorbar": {
              "outlinewidth": 0,
              "ticks": ""
             }
            },
            "type": "scatter3d"
           }
          ],
          "scattercarpet": [
           {
            "marker": {
             "colorbar": {
              "outlinewidth": 0,
              "ticks": ""
             }
            },
            "type": "scattercarpet"
           }
          ],
          "scattergeo": [
           {
            "marker": {
             "colorbar": {
              "outlinewidth": 0,
              "ticks": ""
             }
            },
            "type": "scattergeo"
           }
          ],
          "scattergl": [
           {
            "marker": {
             "colorbar": {
              "outlinewidth": 0,
              "ticks": ""
             }
            },
            "type": "scattergl"
           }
          ],
          "scattermapbox": [
           {
            "marker": {
             "colorbar": {
              "outlinewidth": 0,
              "ticks": ""
             }
            },
            "type": "scattermapbox"
           }
          ],
          "scatterpolar": [
           {
            "marker": {
             "colorbar": {
              "outlinewidth": 0,
              "ticks": ""
             }
            },
            "type": "scatterpolar"
           }
          ],
          "scatterpolargl": [
           {
            "marker": {
             "colorbar": {
              "outlinewidth": 0,
              "ticks": ""
             }
            },
            "type": "scatterpolargl"
           }
          ],
          "scatterternary": [
           {
            "marker": {
             "colorbar": {
              "outlinewidth": 0,
              "ticks": ""
             }
            },
            "type": "scatterternary"
           }
          ],
          "surface": [
           {
            "colorbar": {
             "outlinewidth": 0,
             "ticks": ""
            },
            "colorscale": [
             [
              0,
              "#0d0887"
             ],
             [
              0.1111111111111111,
              "#46039f"
             ],
             [
              0.2222222222222222,
              "#7201a8"
             ],
             [
              0.3333333333333333,
              "#9c179e"
             ],
             [
              0.4444444444444444,
              "#bd3786"
             ],
             [
              0.5555555555555556,
              "#d8576b"
             ],
             [
              0.6666666666666666,
              "#ed7953"
             ],
             [
              0.7777777777777778,
              "#fb9f3a"
             ],
             [
              0.8888888888888888,
              "#fdca26"
             ],
             [
              1,
              "#f0f921"
             ]
            ],
            "type": "surface"
           }
          ],
          "table": [
           {
            "cells": {
             "fill": {
              "color": "#EBF0F8"
             },
             "line": {
              "color": "white"
             }
            },
            "header": {
             "fill": {
              "color": "#C8D4E3"
             },
             "line": {
              "color": "white"
             }
            },
            "type": "table"
           }
          ]
         },
         "layout": {
          "annotationdefaults": {
           "arrowcolor": "#2a3f5f",
           "arrowhead": 0,
           "arrowwidth": 1
          },
          "autotypenumbers": "strict",
          "coloraxis": {
           "colorbar": {
            "outlinewidth": 0,
            "ticks": ""
           }
          },
          "colorscale": {
           "diverging": [
            [
             0,
             "#8e0152"
            ],
            [
             0.1,
             "#c51b7d"
            ],
            [
             0.2,
             "#de77ae"
            ],
            [
             0.3,
             "#f1b6da"
            ],
            [
             0.4,
             "#fde0ef"
            ],
            [
             0.5,
             "#f7f7f7"
            ],
            [
             0.6,
             "#e6f5d0"
            ],
            [
             0.7,
             "#b8e186"
            ],
            [
             0.8,
             "#7fbc41"
            ],
            [
             0.9,
             "#4d9221"
            ],
            [
             1,
             "#276419"
            ]
           ],
           "sequential": [
            [
             0,
             "#0d0887"
            ],
            [
             0.1111111111111111,
             "#46039f"
            ],
            [
             0.2222222222222222,
             "#7201a8"
            ],
            [
             0.3333333333333333,
             "#9c179e"
            ],
            [
             0.4444444444444444,
             "#bd3786"
            ],
            [
             0.5555555555555556,
             "#d8576b"
            ],
            [
             0.6666666666666666,
             "#ed7953"
            ],
            [
             0.7777777777777778,
             "#fb9f3a"
            ],
            [
             0.8888888888888888,
             "#fdca26"
            ],
            [
             1,
             "#f0f921"
            ]
           ],
           "sequentialminus": [
            [
             0,
             "#0d0887"
            ],
            [
             0.1111111111111111,
             "#46039f"
            ],
            [
             0.2222222222222222,
             "#7201a8"
            ],
            [
             0.3333333333333333,
             "#9c179e"
            ],
            [
             0.4444444444444444,
             "#bd3786"
            ],
            [
             0.5555555555555556,
             "#d8576b"
            ],
            [
             0.6666666666666666,
             "#ed7953"
            ],
            [
             0.7777777777777778,
             "#fb9f3a"
            ],
            [
             0.8888888888888888,
             "#fdca26"
            ],
            [
             1,
             "#f0f921"
            ]
           ]
          },
          "colorway": [
           "#636efa",
           "#EF553B",
           "#00cc96",
           "#ab63fa",
           "#FFA15A",
           "#19d3f3",
           "#FF6692",
           "#B6E880",
           "#FF97FF",
           "#FECB52"
          ],
          "font": {
           "color": "#2a3f5f"
          },
          "geo": {
           "bgcolor": "white",
           "lakecolor": "white",
           "landcolor": "#E5ECF6",
           "showlakes": true,
           "showland": true,
           "subunitcolor": "white"
          },
          "hoverlabel": {
           "align": "left"
          },
          "hovermode": "closest",
          "mapbox": {
           "style": "light"
          },
          "paper_bgcolor": "white",
          "plot_bgcolor": "#E5ECF6",
          "polar": {
           "angularaxis": {
            "gridcolor": "white",
            "linecolor": "white",
            "ticks": ""
           },
           "bgcolor": "#E5ECF6",
           "radialaxis": {
            "gridcolor": "white",
            "linecolor": "white",
            "ticks": ""
           }
          },
          "scene": {
           "xaxis": {
            "backgroundcolor": "#E5ECF6",
            "gridcolor": "white",
            "gridwidth": 2,
            "linecolor": "white",
            "showbackground": true,
            "ticks": "",
            "zerolinecolor": "white"
           },
           "yaxis": {
            "backgroundcolor": "#E5ECF6",
            "gridcolor": "white",
            "gridwidth": 2,
            "linecolor": "white",
            "showbackground": true,
            "ticks": "",
            "zerolinecolor": "white"
           },
           "zaxis": {
            "backgroundcolor": "#E5ECF6",
            "gridcolor": "white",
            "gridwidth": 2,
            "linecolor": "white",
            "showbackground": true,
            "ticks": "",
            "zerolinecolor": "white"
           }
          },
          "shapedefaults": {
           "line": {
            "color": "#2a3f5f"
           }
          },
          "ternary": {
           "aaxis": {
            "gridcolor": "white",
            "linecolor": "white",
            "ticks": ""
           },
           "baxis": {
            "gridcolor": "white",
            "linecolor": "white",
            "ticks": ""
           },
           "bgcolor": "#E5ECF6",
           "caxis": {
            "gridcolor": "white",
            "linecolor": "white",
            "ticks": ""
           }
          },
          "title": {
           "x": 0.05
          },
          "xaxis": {
           "automargin": true,
           "gridcolor": "white",
           "linecolor": "white",
           "ticks": "",
           "title": {
            "standoff": 15
           },
           "zerolinecolor": "white",
           "zerolinewidth": 2
          },
          "yaxis": {
           "automargin": true,
           "gridcolor": "white",
           "linecolor": "white",
           "ticks": "",
           "title": {
            "standoff": 15
           },
           "zerolinecolor": "white",
           "zerolinewidth": 2
          }
         }
        },
        "title": {
         "text": "Annotation Distribution"
        },
        "xaxis": {
         "anchor": "y",
         "domain": [
          0,
          1
         ],
         "dtick": 1,
         "tick0": 1,
         "tickmode": "linear",
         "title": {
          "text": "sdg"
         }
        },
        "yaxis": {
         "anchor": "x",
         "domain": [
          0,
          1
         ],
         "title": {
          "text": "value"
         }
        }
       }
      }
     },
     "metadata": {},
     "output_type": "display_data"
    },
    {
     "name": "stdout",
     "output_type": "stream",
     "text": [
      "agreement looks are okayish...\n"
     ]
    }
   ],
   "source": [
    "'''plot share of positive/negative labels per sdgs to visualise agreement of annotators'''\n",
    "count_sdg = df[['sdg', 'labels_negative', 'labels_positive']].groupby('sdg', as_index=False).sum()\n",
    "fig = px.bar(count_sdg, x=\"sdg\", y=[\"labels_negative\", \"labels_positive\"], title=\"Annotation Distribution\")\n",
    "fig.update_layout(\n",
    "    xaxis = dict(\n",
    "        tickmode = 'linear',\n",
    "        tick0 = 1,\n",
    "        dtick = 1\n",
    "    )\n",
    ")\n",
    "fig.show()\n",
    "\n",
    "print(\"agreement looks are okayish...\")\n"
   ]
  },
  {
   "cell_type": "code",
   "execution_count": 26,
   "metadata": {
    "scrolled": false
   },
   "outputs": [
    {
     "name": "stdout",
     "output_type": "stream",
     "text": [
      "Shape before: (42635, 8)\n",
      "Shape after : (20707, 8)\n"
     ]
    },
    {
     "data": {
      "text/html": [
       "<div>\n",
       "<style scoped>\n",
       "    .dataframe tbody tr th:only-of-type {\n",
       "        vertical-align: middle;\n",
       "    }\n",
       "\n",
       "    .dataframe tbody tr th {\n",
       "        vertical-align: top;\n",
       "    }\n",
       "\n",
       "    .dataframe thead th {\n",
       "        text-align: right;\n",
       "    }\n",
       "</style>\n",
       "<table border=\"1\" class=\"dataframe\">\n",
       "  <thead>\n",
       "    <tr style=\"text-align: right;\">\n",
       "      <th></th>\n",
       "      <th>doi</th>\n",
       "      <th>text_id</th>\n",
       "      <th>text</th>\n",
       "      <th>sdg</th>\n",
       "      <th>labels_negative</th>\n",
       "      <th>labels_positive</th>\n",
       "      <th>agreement</th>\n",
       "      <th>text_clean</th>\n",
       "    </tr>\n",
       "  </thead>\n",
       "  <tbody>\n",
       "    <tr>\n",
       "      <th>0</th>\n",
       "      <td>10.6027/9789289342698-7-en</td>\n",
       "      <td>00021941702cd84171ff33962197ca1f</td>\n",
       "      <td>\"From a gender perspective, Paulgaard points o...</td>\n",
       "      <td>5</td>\n",
       "      <td>1</td>\n",
       "      <td>8</td>\n",
       "      <td>0.777778</td>\n",
       "      <td>from a gender perspective paulgaard points out...</td>\n",
       "    </tr>\n",
       "    <tr>\n",
       "      <th>2</th>\n",
       "      <td>10.1787/9789264289062-4-en</td>\n",
       "      <td>0004eb64f96e1620cd852603d9cbe4d4</td>\n",
       "      <td>The average figure also masks large difference...</td>\n",
       "      <td>3</td>\n",
       "      <td>1</td>\n",
       "      <td>8</td>\n",
       "      <td>0.777778</td>\n",
       "      <td>the average figure also masks large difference...</td>\n",
       "    </tr>\n",
       "    <tr>\n",
       "      <th>8</th>\n",
       "      <td>10.1787/9789264117563-8-en</td>\n",
       "      <td>000bfb17e9f3a00d4515ab59c5c487e7</td>\n",
       "      <td>The Israel Oceanographic and Limnological Rese...</td>\n",
       "      <td>6</td>\n",
       "      <td>0</td>\n",
       "      <td>3</td>\n",
       "      <td>1.000000</td>\n",
       "      <td>the israel oceanographic and limnological rese...</td>\n",
       "    </tr>\n",
       "    <tr>\n",
       "      <th>9</th>\n",
       "      <td>10.18356/805b1ae4-en</td>\n",
       "      <td>001180f5dd9a821e651ed51e30d0cf8c</td>\n",
       "      <td>Previous chapters have discussed ways to make ...</td>\n",
       "      <td>2</td>\n",
       "      <td>0</td>\n",
       "      <td>3</td>\n",
       "      <td>1.000000</td>\n",
       "      <td>previous chapters have discussed ways to make ...</td>\n",
       "    </tr>\n",
       "    <tr>\n",
       "      <th>11</th>\n",
       "      <td>10.1017/S0008423907070424</td>\n",
       "      <td>00162fc8346ca9cd525d8f87ac2b5352</td>\n",
       "      <td>The “War on Terror” and the Framework of Inter...</td>\n",
       "      <td>16</td>\n",
       "      <td>0</td>\n",
       "      <td>7</td>\n",
       "      <td>1.000000</td>\n",
       "      <td>the war on terror and the framework of interna...</td>\n",
       "    </tr>\n",
       "  </tbody>\n",
       "</table>\n",
       "</div>"
      ],
      "text/plain": [
       "                           doi                           text_id  \\\n",
       "0   10.6027/9789289342698-7-en  00021941702cd84171ff33962197ca1f   \n",
       "2   10.1787/9789264289062-4-en  0004eb64f96e1620cd852603d9cbe4d4   \n",
       "8   10.1787/9789264117563-8-en  000bfb17e9f3a00d4515ab59c5c487e7   \n",
       "9         10.18356/805b1ae4-en  001180f5dd9a821e651ed51e30d0cf8c   \n",
       "11   10.1017/S0008423907070424  00162fc8346ca9cd525d8f87ac2b5352   \n",
       "\n",
       "                                                 text  sdg  labels_negative  \\\n",
       "0   \"From a gender perspective, Paulgaard points o...    5                1   \n",
       "2   The average figure also masks large difference...    3                1   \n",
       "8   The Israel Oceanographic and Limnological Rese...    6                0   \n",
       "9   Previous chapters have discussed ways to make ...    2                0   \n",
       "11  The “War on Terror” and the Framework of Inter...   16                0   \n",
       "\n",
       "    labels_positive  agreement  \\\n",
       "0                 8   0.777778   \n",
       "2                 8   0.777778   \n",
       "8                 3   1.000000   \n",
       "9                 3   1.000000   \n",
       "11                7   1.000000   \n",
       "\n",
       "                                           text_clean  \n",
       "0   from a gender perspective paulgaard points out...  \n",
       "2   the average figure also masks large difference...  \n",
       "8   the israel oceanographic and limnological rese...  \n",
       "9   previous chapters have discussed ways to make ...  \n",
       "11  the war on terror and the framework of interna...  "
      ]
     },
     "metadata": {},
     "output_type": "display_data"
    }
   ],
   "source": [
    "# keeping only the texts whose suggested sdg labels is accepted and the agreement score is at least .75\n",
    "# We want to have pretty high confidence in our labels and thus drop almost 50% of the training data. Quality > Quantity\n",
    "print('Shape before:', df.shape)\n",
    "df_cut = df.query('agreement >= .7 and labels_positive > labels_negative').copy()\n",
    "print('Shape after :', df_cut.shape)\n",
    "display(df_cut.head())"
   ]
  },
  {
   "cell_type": "code",
   "execution_count": 27,
   "metadata": {},
   "outputs": [
    {
     "name": "stdout",
     "output_type": "stream",
     "text": [
      "Shape: (16, 3)\n"
     ]
    },
    {
     "data": {
      "text/html": [
       "<div>\n",
       "<style scoped>\n",
       "    .dataframe tbody tr th:only-of-type {\n",
       "        vertical-align: middle;\n",
       "    }\n",
       "\n",
       "    .dataframe tbody tr th {\n",
       "        vertical-align: top;\n",
       "    }\n",
       "\n",
       "    .dataframe thead th {\n",
       "        text-align: right;\n",
       "    }\n",
       "</style>\n",
       "<table border=\"1\" class=\"dataframe\">\n",
       "  <thead>\n",
       "    <tr style=\"text-align: right;\">\n",
       "      <th></th>\n",
       "      <th>sdg</th>\n",
       "      <th>count</th>\n",
       "      <th>share</th>\n",
       "    </tr>\n",
       "  </thead>\n",
       "  <tbody>\n",
       "    <tr>\n",
       "      <th>0</th>\n",
       "      <td>1</td>\n",
       "      <td>1131</td>\n",
       "      <td>5.461921</td>\n",
       "    </tr>\n",
       "    <tr>\n",
       "      <th>1</th>\n",
       "      <td>2</td>\n",
       "      <td>760</td>\n",
       "      <td>3.670256</td>\n",
       "    </tr>\n",
       "    <tr>\n",
       "      <th>2</th>\n",
       "      <td>3</td>\n",
       "      <td>1788</td>\n",
       "      <td>8.634761</td>\n",
       "    </tr>\n",
       "    <tr>\n",
       "      <th>3</th>\n",
       "      <td>4</td>\n",
       "      <td>2261</td>\n",
       "      <td>10.919013</td>\n",
       "    </tr>\n",
       "    <tr>\n",
       "      <th>4</th>\n",
       "      <td>5</td>\n",
       "      <td>2337</td>\n",
       "      <td>11.286039</td>\n",
       "    </tr>\n",
       "    <tr>\n",
       "      <th>5</th>\n",
       "      <td>6</td>\n",
       "      <td>1286</td>\n",
       "      <td>6.210460</td>\n",
       "    </tr>\n",
       "    <tr>\n",
       "      <th>6</th>\n",
       "      <td>7</td>\n",
       "      <td>1775</td>\n",
       "      <td>8.571980</td>\n",
       "    </tr>\n",
       "    <tr>\n",
       "      <th>7</th>\n",
       "      <td>8</td>\n",
       "      <td>827</td>\n",
       "      <td>3.993819</td>\n",
       "    </tr>\n",
       "    <tr>\n",
       "      <th>8</th>\n",
       "      <td>9</td>\n",
       "      <td>1362</td>\n",
       "      <td>6.577486</td>\n",
       "    </tr>\n",
       "    <tr>\n",
       "      <th>9</th>\n",
       "      <td>10</td>\n",
       "      <td>799</td>\n",
       "      <td>3.858599</td>\n",
       "    </tr>\n",
       "    <tr>\n",
       "      <th>10</th>\n",
       "      <td>11</td>\n",
       "      <td>1223</td>\n",
       "      <td>5.906215</td>\n",
       "    </tr>\n",
       "    <tr>\n",
       "      <th>11</th>\n",
       "      <td>12</td>\n",
       "      <td>462</td>\n",
       "      <td>2.231130</td>\n",
       "    </tr>\n",
       "    <tr>\n",
       "      <th>12</th>\n",
       "      <td>13</td>\n",
       "      <td>1045</td>\n",
       "      <td>5.046603</td>\n",
       "    </tr>\n",
       "    <tr>\n",
       "      <th>13</th>\n",
       "      <td>14</td>\n",
       "      <td>717</td>\n",
       "      <td>3.462597</td>\n",
       "    </tr>\n",
       "    <tr>\n",
       "      <th>14</th>\n",
       "      <td>15</td>\n",
       "      <td>1046</td>\n",
       "      <td>5.051432</td>\n",
       "    </tr>\n",
       "    <tr>\n",
       "      <th>15</th>\n",
       "      <td>16</td>\n",
       "      <td>1888</td>\n",
       "      <td>9.117690</td>\n",
       "    </tr>\n",
       "  </tbody>\n",
       "</table>\n",
       "</div>"
      ],
      "text/plain": [
       "    sdg  count      share\n",
       "0     1   1131   5.461921\n",
       "1     2    760   3.670256\n",
       "2     3   1788   8.634761\n",
       "3     4   2261  10.919013\n",
       "4     5   2337  11.286039\n",
       "5     6   1286   6.210460\n",
       "6     7   1775   8.571980\n",
       "7     8    827   3.993819\n",
       "8     9   1362   6.577486\n",
       "9    10    799   3.858599\n",
       "10   11   1223   5.906215\n",
       "11   12    462   2.231130\n",
       "12   13   1045   5.046603\n",
       "13   14    717   3.462597\n",
       "14   15   1046   5.051432\n",
       "15   16   1888   9.117690"
      ]
     },
     "metadata": {},
     "output_type": "display_data"
    }
   ],
   "source": [
    "#aggregate \n",
    "df_lambda = df_cut.groupby('sdg', as_index = False).agg(count = ('text_id', 'count'))\n",
    "df_lambda['share'] = df_lambda['count'].divide(df_lambda['count'].sum()).multiply(100)\n",
    "print('Shape:', df_lambda.shape)\n",
    "display(df_lambda)"
   ]
  },
  {
   "cell_type": "code",
   "execution_count": 18,
   "metadata": {
    "scrolled": true
   },
   "outputs": [
    {
     "ename": "ValueError",
     "evalue": "Mime type rendering requires nbformat>=4.2.0 but it is not installed",
     "output_type": "error",
     "traceback": [
      "\u001b[0;31m---------------------------------------------------------------------------\u001b[0m",
      "\u001b[0;31mValueError\u001b[0m                                Traceback (most recent call last)",
      "Cell \u001b[0;32mIn[18], line 16\u001b[0m\n\u001b[1;32m     14\u001b[0m fig\u001b[38;5;241m.\u001b[39mupdate_traces(hovertemplate \u001b[38;5;241m=\u001b[39m \u001b[38;5;124m'\u001b[39m\u001b[38;5;124mSDG \u001b[39m\u001b[38;5;124m%\u001b[39m\u001b[38;5;132;01m{x}\u001b[39;00m\u001b[38;5;124m<br>Count: \u001b[39m\u001b[38;5;124m%\u001b[39m\u001b[38;5;132;01m{y}\u001b[39;00m\u001b[38;5;124m<br>Share: \u001b[39m\u001b[38;5;124m%\u001b[39m\u001b[38;5;132;01m{customdata:.2f}\u001b[39;00m\u001b[38;5;124m%\u001b[39m\u001b[38;5;124m'\u001b[39m)\n\u001b[1;32m     15\u001b[0m fig\u001b[38;5;241m.\u001b[39mupdate_layout(xaxis \u001b[38;5;241m=\u001b[39m {\u001b[38;5;124m'\u001b[39m\u001b[38;5;124mtype\u001b[39m\u001b[38;5;124m'\u001b[39m: \u001b[38;5;124m'\u001b[39m\u001b[38;5;124mcategory\u001b[39m\u001b[38;5;124m'\u001b[39m})\n\u001b[0;32m---> 16\u001b[0m \u001b[43mfig\u001b[49m\u001b[38;5;241;43m.\u001b[39;49m\u001b[43mshow\u001b[49m\u001b[43m(\u001b[49m\u001b[43m)\u001b[49m\n",
      "File \u001b[0;32m~/miniconda3/envs/sdg/lib/python3.10/site-packages/plotly/basedatatypes.py:3410\u001b[0m, in \u001b[0;36mBaseFigure.show\u001b[0;34m(self, *args, **kwargs)\u001b[0m\n\u001b[1;32m   3377\u001b[0m \u001b[38;5;250m\u001b[39m\u001b[38;5;124;03m\"\"\"\u001b[39;00m\n\u001b[1;32m   3378\u001b[0m \u001b[38;5;124;03mShow a figure using either the default renderer(s) or the renderer(s)\u001b[39;00m\n\u001b[1;32m   3379\u001b[0m \u001b[38;5;124;03mspecified by the renderer argument\u001b[39;00m\n\u001b[0;32m   (...)\u001b[0m\n\u001b[1;32m   3406\u001b[0m \u001b[38;5;124;03mNone\u001b[39;00m\n\u001b[1;32m   3407\u001b[0m \u001b[38;5;124;03m\"\"\"\u001b[39;00m\n\u001b[1;32m   3408\u001b[0m \u001b[38;5;28;01mimport\u001b[39;00m \u001b[38;5;21;01mplotly\u001b[39;00m\u001b[38;5;21;01m.\u001b[39;00m\u001b[38;5;21;01mio\u001b[39;00m \u001b[38;5;28;01mas\u001b[39;00m \u001b[38;5;21;01mpio\u001b[39;00m\n\u001b[0;32m-> 3410\u001b[0m \u001b[38;5;28;01mreturn\u001b[39;00m \u001b[43mpio\u001b[49m\u001b[38;5;241;43m.\u001b[39;49m\u001b[43mshow\u001b[49m\u001b[43m(\u001b[49m\u001b[38;5;28;43mself\u001b[39;49m\u001b[43m,\u001b[49m\u001b[43m \u001b[49m\u001b[38;5;241;43m*\u001b[39;49m\u001b[43margs\u001b[49m\u001b[43m,\u001b[49m\u001b[43m \u001b[49m\u001b[38;5;241;43m*\u001b[39;49m\u001b[38;5;241;43m*\u001b[39;49m\u001b[43mkwargs\u001b[49m\u001b[43m)\u001b[49m\n",
      "File \u001b[0;32m~/miniconda3/envs/sdg/lib/python3.10/site-packages/plotly/io/_renderers.py:394\u001b[0m, in \u001b[0;36mshow\u001b[0;34m(fig, renderer, validate, **kwargs)\u001b[0m\n\u001b[1;32m    389\u001b[0m         \u001b[38;5;28;01mraise\u001b[39;00m \u001b[38;5;167;01mValueError\u001b[39;00m(\n\u001b[1;32m    390\u001b[0m             \u001b[38;5;124m\"\u001b[39m\u001b[38;5;124mMime type rendering requires ipython but it is not installed\u001b[39m\u001b[38;5;124m\"\u001b[39m\n\u001b[1;32m    391\u001b[0m         )\n\u001b[1;32m    393\u001b[0m     \u001b[38;5;28;01mif\u001b[39;00m \u001b[38;5;129;01mnot\u001b[39;00m nbformat \u001b[38;5;129;01mor\u001b[39;00m Version(nbformat\u001b[38;5;241m.\u001b[39m__version__) \u001b[38;5;241m<\u001b[39m Version(\u001b[38;5;124m\"\u001b[39m\u001b[38;5;124m4.2.0\u001b[39m\u001b[38;5;124m\"\u001b[39m):\n\u001b[0;32m--> 394\u001b[0m         \u001b[38;5;28;01mraise\u001b[39;00m \u001b[38;5;167;01mValueError\u001b[39;00m(\n\u001b[1;32m    395\u001b[0m             \u001b[38;5;124m\"\u001b[39m\u001b[38;5;124mMime type rendering requires nbformat>=4.2.0 but it is not installed\u001b[39m\u001b[38;5;124m\"\u001b[39m\n\u001b[1;32m    396\u001b[0m         )\n\u001b[1;32m    398\u001b[0m     ipython_display\u001b[38;5;241m.\u001b[39mdisplay(bundle, raw\u001b[38;5;241m=\u001b[39m\u001b[38;5;28;01mTrue\u001b[39;00m)\n\u001b[1;32m    400\u001b[0m \u001b[38;5;66;03m# external renderers\u001b[39;00m\n",
      "\u001b[0;31mValueError\u001b[0m: Mime type rendering requires nbformat>=4.2.0 but it is not installed"
     ]
    }
   ],
   "source": [
    "fig = px.bar(\n",
    "    data_frame = df_lambda,\n",
    "    x = 'sdg',\n",
    "    y = 'count',\n",
    "    custom_data = ['share'],\n",
    "    labels = {\n",
    "        'sdg': 'SDG',\n",
    "        'count': 'Count'\n",
    "    },\n",
    "    color_discrete_sequence = ['#1f77b4'],\n",
    "    title = 'Figure 2. Distribution of Texts (Agreement > 70%) over SDGs'\n",
    ")\n",
    "\n",
    "fig.update_traces(hovertemplate = 'SDG %{x}<br>Count: %{y}<br>Share: %{customdata:.2f}%')\n",
    "fig.update_layout(xaxis = {'type': 'category'})\n",
    "fig.show()"
   ]
  },
  {
   "cell_type": "code",
   "execution_count": 28,
   "metadata": {},
   "outputs": [
    {
     "name": "stdout",
     "output_type": "stream",
     "text": [
      "text_clean\n"
     ]
    }
   ],
   "source": [
    "'''process and clean text'''\n",
    "columns_to_clean = ['text']\n",
    "\n",
    "for column in columns_to_clean:\n",
    "    df_cut[column] = df_cut[column].astype(str)\n",
    "    \n",
    "    #basic cleaning\n",
    "    new = column + \"_clean\"\n",
    "    print(new)\n",
    "    df_cut[new] = df_cut[column].apply(clean.basic)\n",
    "    \n",
    "    #lemmatise and stemming + basic cleaning\n",
    "    # new_spacy = column + \"_clean_spacy\"\n",
    "    # print(new_spacy)\n",
    "    # df[new_spacy] = df[column].apply(clean.spacy_clean)"
   ]
  },
  {
   "cell_type": "code",
   "execution_count": 30,
   "metadata": {},
   "outputs": [
    {
     "data": {
      "text/html": [
       "<div>\n",
       "<style scoped>\n",
       "    .dataframe tbody tr th:only-of-type {\n",
       "        vertical-align: middle;\n",
       "    }\n",
       "\n",
       "    .dataframe tbody tr th {\n",
       "        vertical-align: top;\n",
       "    }\n",
       "\n",
       "    .dataframe thead th {\n",
       "        text-align: right;\n",
       "    }\n",
       "</style>\n",
       "<table border=\"1\" class=\"dataframe\">\n",
       "  <thead>\n",
       "    <tr style=\"text-align: right;\">\n",
       "      <th></th>\n",
       "      <th>doi</th>\n",
       "      <th>text_id</th>\n",
       "      <th>text</th>\n",
       "      <th>sdg</th>\n",
       "      <th>labels_negative</th>\n",
       "      <th>labels_positive</th>\n",
       "      <th>agreement</th>\n",
       "      <th>text_clean</th>\n",
       "    </tr>\n",
       "  </thead>\n",
       "  <tbody>\n",
       "    <tr>\n",
       "      <th>0</th>\n",
       "      <td>10.6027/9789289342698-7-en</td>\n",
       "      <td>00021941702cd84171ff33962197ca1f</td>\n",
       "      <td>\"From a gender perspective, Paulgaard points o...</td>\n",
       "      <td>5</td>\n",
       "      <td>1</td>\n",
       "      <td>8</td>\n",
       "      <td>0.777778</td>\n",
       "      <td>from a gender perspective paulgaard points out...</td>\n",
       "    </tr>\n",
       "    <tr>\n",
       "      <th>2</th>\n",
       "      <td>10.1787/9789264289062-4-en</td>\n",
       "      <td>0004eb64f96e1620cd852603d9cbe4d4</td>\n",
       "      <td>The average figure also masks large difference...</td>\n",
       "      <td>3</td>\n",
       "      <td>1</td>\n",
       "      <td>8</td>\n",
       "      <td>0.777778</td>\n",
       "      <td>the average figure also masks large difference...</td>\n",
       "    </tr>\n",
       "    <tr>\n",
       "      <th>8</th>\n",
       "      <td>10.1787/9789264117563-8-en</td>\n",
       "      <td>000bfb17e9f3a00d4515ab59c5c487e7</td>\n",
       "      <td>The Israel Oceanographic and Limnological Rese...</td>\n",
       "      <td>6</td>\n",
       "      <td>0</td>\n",
       "      <td>3</td>\n",
       "      <td>1.000000</td>\n",
       "      <td>the israel oceanographic and limnological rese...</td>\n",
       "    </tr>\n",
       "    <tr>\n",
       "      <th>9</th>\n",
       "      <td>10.18356/805b1ae4-en</td>\n",
       "      <td>001180f5dd9a821e651ed51e30d0cf8c</td>\n",
       "      <td>Previous chapters have discussed ways to make ...</td>\n",
       "      <td>2</td>\n",
       "      <td>0</td>\n",
       "      <td>3</td>\n",
       "      <td>1.000000</td>\n",
       "      <td>previous chapters have discussed ways to make ...</td>\n",
       "    </tr>\n",
       "    <tr>\n",
       "      <th>11</th>\n",
       "      <td>10.1017/S0008423907070424</td>\n",
       "      <td>00162fc8346ca9cd525d8f87ac2b5352</td>\n",
       "      <td>The “War on Terror” and the Framework of Inter...</td>\n",
       "      <td>16</td>\n",
       "      <td>0</td>\n",
       "      <td>7</td>\n",
       "      <td>1.000000</td>\n",
       "      <td>the war on terror and the framework of interna...</td>\n",
       "    </tr>\n",
       "    <tr>\n",
       "      <th>...</th>\n",
       "      <td>...</td>\n",
       "      <td>...</td>\n",
       "      <td>...</td>\n",
       "      <td>...</td>\n",
       "      <td>...</td>\n",
       "      <td>...</td>\n",
       "      <td>...</td>\n",
       "      <td>...</td>\n",
       "    </tr>\n",
       "    <tr>\n",
       "      <th>42622</th>\n",
       "      <td>10.18356/dd2e120a-en</td>\n",
       "      <td>ffeb4e2b3d0f4d449053b1b15f51e4eb</td>\n",
       "      <td>In Mauritius, housing development for the econ...</td>\n",
       "      <td>11</td>\n",
       "      <td>1</td>\n",
       "      <td>10</td>\n",
       "      <td>0.818182</td>\n",
       "      <td>in mauritius housing development for the econo...</td>\n",
       "    </tr>\n",
       "    <tr>\n",
       "      <th>42623</th>\n",
       "      <td>10.18356/83efcfeb-en</td>\n",
       "      <td>ffef3ec4ea192cdfed2ca43d4b2208a9</td>\n",
       "      <td>In consequence, the number of urban dwellers p...</td>\n",
       "      <td>3</td>\n",
       "      <td>0</td>\n",
       "      <td>11</td>\n",
       "      <td>1.000000</td>\n",
       "      <td>in consequence the number of urban dwellers pr...</td>\n",
       "    </tr>\n",
       "    <tr>\n",
       "      <th>42629</th>\n",
       "      <td>10.1787/9789264214033-7-en</td>\n",
       "      <td>fff9b6b75bde5397ba26ed1b163ad306</td>\n",
       "      <td>It also features individual accountability, wh...</td>\n",
       "      <td>4</td>\n",
       "      <td>0</td>\n",
       "      <td>9</td>\n",
       "      <td>1.000000</td>\n",
       "      <td>it also features individual accountability whi...</td>\n",
       "    </tr>\n",
       "    <tr>\n",
       "      <th>42632</th>\n",
       "      <td>10.1787/9789264186378-8-en</td>\n",
       "      <td>fffe58dae29de6b843aff09b6e2f77f0</td>\n",
       "      <td>Groundwater quality can also be affected by co...</td>\n",
       "      <td>6</td>\n",
       "      <td>0</td>\n",
       "      <td>3</td>\n",
       "      <td>1.000000</td>\n",
       "      <td>groundwater quality can also be affected by co...</td>\n",
       "    </tr>\n",
       "    <tr>\n",
       "      <th>42634</th>\n",
       "      <td>10.18356/39dd1e2e-en</td>\n",
       "      <td>ffffcd9cc3f5d943560fe90fb9354ba5</td>\n",
       "      <td>The three diseases that resulted in the greate...</td>\n",
       "      <td>3</td>\n",
       "      <td>1</td>\n",
       "      <td>7</td>\n",
       "      <td>0.750000</td>\n",
       "      <td>the three diseases that resulted in the greate...</td>\n",
       "    </tr>\n",
       "  </tbody>\n",
       "</table>\n",
       "<p>20707 rows × 8 columns</p>\n",
       "</div>"
      ],
      "text/plain": [
       "                              doi                           text_id  \\\n",
       "0      10.6027/9789289342698-7-en  00021941702cd84171ff33962197ca1f   \n",
       "2      10.1787/9789264289062-4-en  0004eb64f96e1620cd852603d9cbe4d4   \n",
       "8      10.1787/9789264117563-8-en  000bfb17e9f3a00d4515ab59c5c487e7   \n",
       "9            10.18356/805b1ae4-en  001180f5dd9a821e651ed51e30d0cf8c   \n",
       "11      10.1017/S0008423907070424  00162fc8346ca9cd525d8f87ac2b5352   \n",
       "...                           ...                               ...   \n",
       "42622        10.18356/dd2e120a-en  ffeb4e2b3d0f4d449053b1b15f51e4eb   \n",
       "42623        10.18356/83efcfeb-en  ffef3ec4ea192cdfed2ca43d4b2208a9   \n",
       "42629  10.1787/9789264214033-7-en  fff9b6b75bde5397ba26ed1b163ad306   \n",
       "42632  10.1787/9789264186378-8-en  fffe58dae29de6b843aff09b6e2f77f0   \n",
       "42634        10.18356/39dd1e2e-en  ffffcd9cc3f5d943560fe90fb9354ba5   \n",
       "\n",
       "                                                    text  sdg  \\\n",
       "0      \"From a gender perspective, Paulgaard points o...    5   \n",
       "2      The average figure also masks large difference...    3   \n",
       "8      The Israel Oceanographic and Limnological Rese...    6   \n",
       "9      Previous chapters have discussed ways to make ...    2   \n",
       "11     The “War on Terror” and the Framework of Inter...   16   \n",
       "...                                                  ...  ...   \n",
       "42622  In Mauritius, housing development for the econ...   11   \n",
       "42623  In consequence, the number of urban dwellers p...    3   \n",
       "42629  It also features individual accountability, wh...    4   \n",
       "42632  Groundwater quality can also be affected by co...    6   \n",
       "42634  The three diseases that resulted in the greate...    3   \n",
       "\n",
       "       labels_negative  labels_positive  agreement  \\\n",
       "0                    1                8   0.777778   \n",
       "2                    1                8   0.777778   \n",
       "8                    0                3   1.000000   \n",
       "9                    0                3   1.000000   \n",
       "11                   0                7   1.000000   \n",
       "...                ...              ...        ...   \n",
       "42622                1               10   0.818182   \n",
       "42623                0               11   1.000000   \n",
       "42629                0                9   1.000000   \n",
       "42632                0                3   1.000000   \n",
       "42634                1                7   0.750000   \n",
       "\n",
       "                                              text_clean  \n",
       "0      from a gender perspective paulgaard points out...  \n",
       "2      the average figure also masks large difference...  \n",
       "8      the israel oceanographic and limnological rese...  \n",
       "9      previous chapters have discussed ways to make ...  \n",
       "11     the war on terror and the framework of interna...  \n",
       "...                                                  ...  \n",
       "42622  in mauritius housing development for the econo...  \n",
       "42623  in consequence the number of urban dwellers pr...  \n",
       "42629  it also features individual accountability whi...  \n",
       "42632  groundwater quality can also be affected by co...  \n",
       "42634  the three diseases that resulted in the greate...  \n",
       "\n",
       "[20707 rows x 8 columns]"
      ]
     },
     "execution_count": 30,
     "metadata": {},
     "output_type": "execute_result"
    }
   ],
   "source": [
    "df_cut"
   ]
  },
  {
   "cell_type": "code",
   "execution_count": 31,
   "metadata": {},
   "outputs": [],
   "source": [
    "'''store processed data'''\n",
    "df_cut.to_csv(os.path.abspath(os.path.join('..', 'data/processed'))+'/data_processed.csv', index=False)"
   ]
  },
  {
   "cell_type": "code",
   "execution_count": 32,
   "metadata": {},
   "outputs": [
    {
     "name": "stdout",
     "output_type": "stream",
     "text": [
      "\"From a gender perspective, Paulgaard points out that the labour markets of the fishing villages have been highly gender-segregated in terms of the existence of \"\"male jobs\"\" and \"\"female jobs\"\", however, the new business opportunities have led to the male population of the peripheral areas now working in the service industry in former \"\"female jobs\"\": \"\"That boys and girls are doing the same jobs indicates change, because traditional boundaries between women and men's work are being crossed. But the fact that young people are still working represents continuity with the past\"\" (Paulgaard 2002: 102). When Paulgaard refers to continuity with traditions, she refers to the expectations of young adults to participate in adult culture, thus these fishing villages traditionally have no actual youth culture. As described earlier, Paulgaard (2015) concludes that in some of Norway's peripheral areas school is still 'foreign', a time waster stealing time from young adults who should instead spend their time on what is considered to be \"\"real\"\" work.\"\n",
      "_____________\n",
      "from a gender perspective paulgaard points out that the labour markets of the fishing villages have been highly gendersegregated in terms of the existence of male jobs and female jobs however the new business opportunities have led to the male population of the peripheral areas now working in the service industry in former female jobs that boys and girls are doing the same jobs indicates change because traditional boundaries between women and mens work are being crossed but the fact that young people are still working represents continuity with the past paulgaard when paulgaard refers to continuity with traditions she refers to the expectations of young adults to participate in adult culture thus these fishing villages traditionally have no actual youth culture as described earlier paulgaard concludes that in some of norways peripheral areas school is still foreign a time waster stealing time from young adults who should instead spend their time on what is considered to be real work\n",
      "_____________\n"
     ]
    }
   ],
   "source": [
    "print(df_cut.text.iloc[0])\n",
    "print('_____________')\n",
    "print(df_cut.text_clean.iloc[0])\n",
    "print('_____________')\n",
    "# print(df.text_clean_spacy.iloc[0])"
   ]
  },
  {
   "cell_type": "code",
   "execution_count": 23,
   "metadata": {},
   "outputs": [
    {
     "data": {
      "text/html": [
       "<div>\n",
       "<style scoped>\n",
       "    .dataframe tbody tr th:only-of-type {\n",
       "        vertical-align: middle;\n",
       "    }\n",
       "\n",
       "    .dataframe tbody tr th {\n",
       "        vertical-align: top;\n",
       "    }\n",
       "\n",
       "    .dataframe thead th {\n",
       "        text-align: right;\n",
       "    }\n",
       "</style>\n",
       "<table border=\"1\" class=\"dataframe\">\n",
       "  <thead>\n",
       "    <tr style=\"text-align: right;\">\n",
       "      <th></th>\n",
       "      <th>doi</th>\n",
       "      <th>text_id</th>\n",
       "      <th>text</th>\n",
       "      <th>sdg</th>\n",
       "      <th>labels_negative</th>\n",
       "      <th>labels_positive</th>\n",
       "      <th>agreement</th>\n",
       "    </tr>\n",
       "  </thead>\n",
       "  <tbody>\n",
       "  </tbody>\n",
       "</table>\n",
       "</div>"
      ],
      "text/plain": [
       "Empty DataFrame\n",
       "Columns: [doi, text_id, text, sdg, labels_negative, labels_positive, agreement]\n",
       "Index: []"
      ]
     },
     "execution_count": 23,
     "metadata": {},
     "output_type": "execute_result"
    }
   ],
   "source": [
    "'''check if there are any duplicates'''\n",
    "df_cut[df_cut.duplicated(['text'], keep=False)].sort_values(by='text')"
   ]
  },
  {
   "cell_type": "code",
   "execution_count": 33,
   "metadata": {},
   "outputs": [],
   "source": [
    "'''transform for hugginface trainer'''\n",
    "df_alpha = df_cut[[\"text_clean\", \"sdg\"]]\n",
    "df_alpha = df_alpha.rename(columns={'sdg': 'target'})\n",
    "\n",
    "df_alpha.to_csv(os.path.abspath(os.path.join('..', 'data/processed'))+'/data_transformer.csv', index=False)"
   ]
  },
  {
   "cell_type": "code",
   "execution_count": 35,
   "metadata": {},
   "outputs": [
    {
     "name": "stdout",
     "output_type": "stream",
     "text": [
      "train size: 16565\n",
      "test size: 4142\n"
     ]
    }
   ],
   "source": [
    "'''transform for Pytorch training'''\n",
    "\n",
    "df_alpha = df_cut[[\"text_clean\", \"sdg\"]]\n",
    "df_alpha = df_alpha.rename(columns={'sdg': 'label'})\n",
    "df_alpha = df_alpha.rename(columns={'text_clean': 'sentence1'})\n",
    "\n",
    "# split train valid:\n",
    "from sklearn.model_selection import train_test_split\n",
    "'''split test train'''\n",
    "train, valid = train_test_split(df_alpha, test_size=0.2, stratify=df_cut['sdg'].values, random_state = 1, shuffle = True)\n",
    "\n",
    "print('train size:', len(train))\n",
    "print('test size:', len(valid))\n",
    "\n",
    "#assert len(set(y_train)) == len(set(y_test)), \"Unequal splits with some labels missing\"\n",
    "\n",
    "train.to_csv(os.path.abspath(os.path.join('..', 'data/processed'))+'/train.csv', index=False)\n",
    "valid.to_csv(os.path.abspath(os.path.join('..', 'data/processed'))+'/valid.csv', index=False)\n"
   ]
  }
 ],
 "metadata": {
  "interpreter": {
   "hash": "18e46edb76cda114b68a93c7c4beada076a47966c5dd62730c1e0aa1abcd1a8a"
  },
  "kernelspec": {
   "display_name": "Python 3 (ipykernel)",
   "language": "python",
   "name": "python3"
  },
  "language_info": {
   "codemirror_mode": {
    "name": "ipython",
    "version": 3
   },
   "file_extension": ".py",
   "mimetype": "text/x-python",
   "name": "python",
   "nbconvert_exporter": "python",
   "pygments_lexer": "ipython3",
   "version": "3.10.13"
  }
 },
 "nbformat": 4,
 "nbformat_minor": 2
}
