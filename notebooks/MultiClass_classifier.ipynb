{
 "cells": [
  {
   "attachments": {},
   "cell_type": "markdown",
   "id": "55433128",
   "metadata": {},
   "source": [
    "# MultiClass Classification with Sklearn"
   ]
  },
  {
   "cell_type": "code",
   "execution_count": 2,
   "id": "d80e7816",
   "metadata": {},
   "outputs": [],
   "source": [
    "import os\n",
    "import sys\n",
    "sys.path.insert(0, os.path.abspath(os.path.join('..', 'src')))\n",
    "sys.setrecursionlimit(20500)\n",
    "import pandas as pd\n",
    "\n",
    "\n",
    "from sklearn.metrics import make_scorer\n",
    "from sklearn.model_selection import train_test_split\n",
    "from sklearn.feature_extraction.text import TfidfVectorizer\n",
    "from sklearn.linear_model import LogisticRegression\n",
    "from sklearn.metrics import precision_score\n",
    "\n",
    "from sklearn.pipeline import Pipeline\n",
    "from sklearn.metrics import accuracy_score, confusion_matrix, classification_report\n",
    "from sklearn.model_selection import train_test_split, cross_val_score, GridSearchCV\n",
    "from sklearn.metrics import accuracy_score, f1_score, precision_score, recall_score, classification_report, confusion_matrix\n",
    "\n",
    "'''import helpers'''\n",
    "import tools as tools"
   ]
  },
  {
   "cell_type": "code",
   "execution_count": 3,
   "id": "d9298107",
   "metadata": {},
   "outputs": [],
   "source": [
    "'''import processed data'''\n",
    "df = pd.read_csv(os.path.abspath(os.path.join('..', 'data/processed/'))+'/data_processed.csv')"
   ]
  },
  {
   "cell_type": "code",
   "execution_count": 4,
   "id": "ccd8cab5",
   "metadata": {},
   "outputs": [
    {
     "data": {
      "text/html": [
       "<div>\n",
       "<style scoped>\n",
       "    .dataframe tbody tr th:only-of-type {\n",
       "        vertical-align: middle;\n",
       "    }\n",
       "\n",
       "    .dataframe tbody tr th {\n",
       "        vertical-align: top;\n",
       "    }\n",
       "\n",
       "    .dataframe thead th {\n",
       "        text-align: right;\n",
       "    }\n",
       "</style>\n",
       "<table border=\"1\" class=\"dataframe\">\n",
       "  <thead>\n",
       "    <tr style=\"text-align: right;\">\n",
       "      <th></th>\n",
       "      <th>doi</th>\n",
       "      <th>text_id</th>\n",
       "      <th>text</th>\n",
       "      <th>sdg</th>\n",
       "      <th>labels_negative</th>\n",
       "      <th>labels_positive</th>\n",
       "      <th>agreement</th>\n",
       "      <th>text_clean</th>\n",
       "    </tr>\n",
       "  </thead>\n",
       "  <tbody>\n",
       "    <tr>\n",
       "      <th>0</th>\n",
       "      <td>10.6027/9789289342698-7-en</td>\n",
       "      <td>00021941702cd84171ff33962197ca1f</td>\n",
       "      <td>\"From a gender perspective, Paulgaard points o...</td>\n",
       "      <td>5</td>\n",
       "      <td>1</td>\n",
       "      <td>8</td>\n",
       "      <td>0.777778</td>\n",
       "      <td>from a gender perspective paulgaard points out...</td>\n",
       "    </tr>\n",
       "    <tr>\n",
       "      <th>1</th>\n",
       "      <td>10.1787/9789264289062-4-en</td>\n",
       "      <td>0004eb64f96e1620cd852603d9cbe4d4</td>\n",
       "      <td>The average figure also masks large difference...</td>\n",
       "      <td>3</td>\n",
       "      <td>1</td>\n",
       "      <td>8</td>\n",
       "      <td>0.777778</td>\n",
       "      <td>the average figure also masks large difference...</td>\n",
       "    </tr>\n",
       "    <tr>\n",
       "      <th>2</th>\n",
       "      <td>10.1787/9789264117563-8-en</td>\n",
       "      <td>000bfb17e9f3a00d4515ab59c5c487e7</td>\n",
       "      <td>The Israel Oceanographic and Limnological Rese...</td>\n",
       "      <td>6</td>\n",
       "      <td>0</td>\n",
       "      <td>3</td>\n",
       "      <td>1.000000</td>\n",
       "      <td>the israel oceanographic and limnological rese...</td>\n",
       "    </tr>\n",
       "    <tr>\n",
       "      <th>3</th>\n",
       "      <td>10.18356/805b1ae4-en</td>\n",
       "      <td>001180f5dd9a821e651ed51e30d0cf8c</td>\n",
       "      <td>Previous chapters have discussed ways to make ...</td>\n",
       "      <td>2</td>\n",
       "      <td>0</td>\n",
       "      <td>3</td>\n",
       "      <td>1.000000</td>\n",
       "      <td>previous chapters have discussed ways to make ...</td>\n",
       "    </tr>\n",
       "    <tr>\n",
       "      <th>4</th>\n",
       "      <td>10.1017/S0008423907070424</td>\n",
       "      <td>00162fc8346ca9cd525d8f87ac2b5352</td>\n",
       "      <td>The “War on Terror” and the Framework of Inter...</td>\n",
       "      <td>16</td>\n",
       "      <td>0</td>\n",
       "      <td>7</td>\n",
       "      <td>1.000000</td>\n",
       "      <td>the war on terror and the framework of interna...</td>\n",
       "    </tr>\n",
       "  </tbody>\n",
       "</table>\n",
       "</div>"
      ],
      "text/plain": [
       "                          doi                           text_id  \\\n",
       "0  10.6027/9789289342698-7-en  00021941702cd84171ff33962197ca1f   \n",
       "1  10.1787/9789264289062-4-en  0004eb64f96e1620cd852603d9cbe4d4   \n",
       "2  10.1787/9789264117563-8-en  000bfb17e9f3a00d4515ab59c5c487e7   \n",
       "3        10.18356/805b1ae4-en  001180f5dd9a821e651ed51e30d0cf8c   \n",
       "4   10.1017/S0008423907070424  00162fc8346ca9cd525d8f87ac2b5352   \n",
       "\n",
       "                                                text  sdg  labels_negative  \\\n",
       "0  \"From a gender perspective, Paulgaard points o...    5                1   \n",
       "1  The average figure also masks large difference...    3                1   \n",
       "2  The Israel Oceanographic and Limnological Rese...    6                0   \n",
       "3  Previous chapters have discussed ways to make ...    2                0   \n",
       "4  The “War on Terror” and the Framework of Inter...   16                0   \n",
       "\n",
       "   labels_positive  agreement  \\\n",
       "0                8   0.777778   \n",
       "1                8   0.777778   \n",
       "2                3   1.000000   \n",
       "3                3   1.000000   \n",
       "4                7   1.000000   \n",
       "\n",
       "                                          text_clean  \n",
       "0  from a gender perspective paulgaard points out...  \n",
       "1  the average figure also masks large difference...  \n",
       "2  the israel oceanographic and limnological rese...  \n",
       "3  previous chapters have discussed ways to make ...  \n",
       "4  the war on terror and the framework of interna...  "
      ]
     },
     "execution_count": 4,
     "metadata": {},
     "output_type": "execute_result"
    }
   ],
   "source": [
    "df.head(5)"
   ]
  },
  {
   "cell_type": "code",
   "execution_count": 5,
   "id": "62fda9d5",
   "metadata": {},
   "outputs": [
    {
     "name": "stdout",
     "output_type": "stream",
     "text": [
      "train size: 17600\n",
      "test size: 3107\n"
     ]
    }
   ],
   "source": [
    "'''split test train'''\n",
    "X_train, X_test, y_train, y_test = train_test_split(df['text_clean'],\n",
    "                                                    df['sdg'].values,\n",
    "                                                    test_size = .15,\n",
    "                                                    stratify=df['sdg'].values,\n",
    "                                                    random_state = 1,\n",
    "                                                    shuffle = True)\n",
    "print('train size:', len(X_train))\n",
    "print('test size:', len(X_test))\n",
    "\n",
    "assert len(set(y_train)) == len(set(y_test)), \"Unequal splits with some labels missing\""
   ]
  },
  {
   "cell_type": "code",
   "execution_count": 6,
   "id": "8736b678",
   "metadata": {},
   "outputs": [],
   "source": [
    "'''extract features using tfidf vecorization:'''\n",
    "vectorizer = TfidfVectorizer(ngram_range = (1,2),min_df = 0.01, max_df = 0.95)\n",
    "vect = vectorizer.fit(X_train)\n",
    "X_train = vect.transform(X_train)\n",
    "X_test = vect.transform(X_test)"
   ]
  },
  {
   "cell_type": "code",
   "execution_count": 7,
   "id": "6a4a3455",
   "metadata": {},
   "outputs": [
    {
     "name": "stderr",
     "output_type": "stream",
     "text": [
      "/Users/jonas/miniconda3/envs/sdg/lib/python3.10/site-packages/sklearn/linear_model/_logistic.py:460: ConvergenceWarning: lbfgs failed to converge (status=1):\n",
      "STOP: TOTAL NO. of ITERATIONS REACHED LIMIT.\n",
      "\n",
      "Increase the number of iterations (max_iter) or scale the data as shown in:\n",
      "    https://scikit-learn.org/stable/modules/preprocessing.html\n",
      "Please also refer to the documentation for alternative solver options:\n",
      "    https://scikit-learn.org/stable/modules/linear_model.html#logistic-regression\n",
      "  n_iter_i = _check_optimize_result(\n"
     ]
    },
    {
     "name": "stdout",
     "output_type": "stream",
     "text": [
      "Training accuracy: 89.0 %\n",
      "Test accuracy: 83.0 %\n"
     ]
    },
    {
     "data": {
      "image/png": "[encoded data removed]",
      "text/plain": [
       "<Figure size 1000x800 with 2 Axes>"
      ]
     },
     "metadata": {},
     "output_type": "display_data"
    }
   ],
   "source": [
    "clf = LogisticRegression(solver = 'lbfgs', multi_class = 'multinomial', penalty='l2').fit(X_train, y_train)\n",
    "print('Training accuracy:', clf.score(X_train, y_train).round(2)*100, \"%\")\n",
    "print('Test accuracy:', clf.score(X_test, y_test).round(2)*100, \"%\")\n",
    "y_hat = clf.predict(X_test)\n",
    "tools.show_labels(y_test, y_hat, title = 'Logistic Regression Clasifier', class_range = (1,17))"
   ]
  },
  {
   "cell_type": "code",
   "execution_count": 9,
   "id": "3a5c343d",
   "metadata": {},
   "outputs": [
    {
     "name": "stdout",
     "output_type": "stream",
     "text": [
      "              precision    recall  f1-score   support\n",
      "\n",
      "           1       0.83      0.86      0.85       170\n",
      "           2       0.81      0.71      0.76       114\n",
      "           3       0.81      0.88      0.85       268\n",
      "           4       0.89      0.96      0.92       339\n",
      "           5       0.90      0.89      0.90       351\n",
      "           6       0.91      0.90      0.90       193\n",
      "           7       0.86      0.87      0.87       266\n",
      "           8       0.58      0.56      0.57       124\n",
      "           9       0.69      0.75      0.72       204\n",
      "          10       0.78      0.63      0.70       120\n",
      "          11       0.77      0.78      0.77       184\n",
      "          12       0.75      0.62      0.68        69\n",
      "          13       0.83      0.82      0.82       157\n",
      "          14       0.88      0.60      0.71       108\n",
      "          15       0.91      0.86      0.88       157\n",
      "          16       0.89      0.95      0.92       283\n",
      "\n",
      "    accuracy                           0.83      3107\n",
      "   macro avg       0.82      0.79      0.80      3107\n",
      "weighted avg       0.83      0.83      0.83      3107\n",
      "\n"
     ]
    }
   ],
   "source": [
    "print(classification_report(y_test, y_hat))"
   ]
  },
  {
   "cell_type": "code",
   "execution_count": 11,
   "id": "1cc0e771",
   "metadata": {},
   "outputs": [
    {
     "data": {
      "text/plain": [
       "sdg_1          poverty\n",
       "sdg_2             food\n",
       "sdg_3           health\n",
       "sdg_4        education\n",
       "sdg_5            women\n",
       "sdg_6            water\n",
       "sdg_7           energy\n",
       "sdg_8       employment\n",
       "sdg_9       innovation\n",
       "sdg_10      inequality\n",
       "sdg_11           urban\n",
       "sdg_12           waste\n",
       "sdg_13         climate\n",
       "sdg_14       fisheries\n",
       "sdg_15    biodiversity\n",
       "sdg_16             law\n",
       "dtype: object"
      ]
     },
     "metadata": {},
     "output_type": "display_data"
    },
    {
     "name": "stdout",
     "output_type": "stream",
     "text": [
      "Shape:(16, 1)\n"
     ]
    },
    {
     "data": {
      "text/html": [
       "<div>\n",
       "<style scoped>\n",
       "    .dataframe tbody tr th:only-of-type {\n",
       "        vertical-align: middle;\n",
       "    }\n",
       "\n",
       "    .dataframe tbody tr th {\n",
       "        vertical-align: top;\n",
       "    }\n",
       "\n",
       "    .dataframe thead th {\n",
       "        text-align: right;\n",
       "    }\n",
       "</style>\n",
       "<table border=\"1\" class=\"dataframe\">\n",
       "  <thead>\n",
       "    <tr style=\"text-align: right;\">\n",
       "      <th></th>\n",
       "      <th>Keywords</th>\n",
       "    </tr>\n",
       "  </thead>\n",
       "  <tbody>\n",
       "    <tr>\n",
       "      <th>sdg_1</th>\n",
       "      <td>[(poverty, 11.644), (poor, 6.769), (children, ...</td>\n",
       "    </tr>\n",
       "    <tr>\n",
       "      <th>sdg_2</th>\n",
       "      <td>[(food, 9.425), (agricultural, 7.482), (farmer...</td>\n",
       "    </tr>\n",
       "    <tr>\n",
       "      <th>sdg_3</th>\n",
       "      <td>[(health, 10.711), (care, 6.776), (patients, 5...</td>\n",
       "    </tr>\n",
       "    <tr>\n",
       "      <th>sdg_4</th>\n",
       "      <td>[(education, 10.114), (students, 9.137), (scho...</td>\n",
       "    </tr>\n",
       "    <tr>\n",
       "      <th>sdg_5</th>\n",
       "      <td>[(women, 13.266), (gender, 10.762), (girls, 5....</td>\n",
       "    </tr>\n",
       "    <tr>\n",
       "      <th>sdg_6</th>\n",
       "      <td>[(water, 14.374), (groundwater, 6.041), (river...</td>\n",
       "    </tr>\n",
       "    <tr>\n",
       "      <th>sdg_7</th>\n",
       "      <td>[(energy, 10.896), (electricity, 8.764), (powe...</td>\n",
       "    </tr>\n",
       "    <tr>\n",
       "      <th>sdg_8</th>\n",
       "      <td>[(employment, 5.699), (labour, 5.196), (worker...</td>\n",
       "    </tr>\n",
       "    <tr>\n",
       "      <th>sdg_9</th>\n",
       "      <td>[(innovation, 6.561), (infrastructure, 6.29), ...</td>\n",
       "    </tr>\n",
       "    <tr>\n",
       "      <th>sdg_10</th>\n",
       "      <td>[(inequality, 9.234), (income, 4.676), (worker...</td>\n",
       "    </tr>\n",
       "    <tr>\n",
       "      <th>sdg_11</th>\n",
       "      <td>[(urban, 7.739), (cities, 7.435), (city, 6.89)...</td>\n",
       "    </tr>\n",
       "    <tr>\n",
       "      <th>sdg_12</th>\n",
       "      <td>[(waste, 8.735), (material, 4.323), (consumpti...</td>\n",
       "    </tr>\n",
       "    <tr>\n",
       "      <th>sdg_13</th>\n",
       "      <td>[(climate, 10.55), (adaptation, 6.562), (emiss...</td>\n",
       "    </tr>\n",
       "    <tr>\n",
       "      <th>sdg_14</th>\n",
       "      <td>[(fisheries, 10.154), (fish, 7.604), (fishing,...</td>\n",
       "    </tr>\n",
       "    <tr>\n",
       "      <th>sdg_15</th>\n",
       "      <td>[(biodiversity, 9.887), (forest, 9.386), (fore...</td>\n",
       "    </tr>\n",
       "    <tr>\n",
       "      <th>sdg_16</th>\n",
       "      <td>[(law, 5.743), (political, 4.543), (corruption...</td>\n",
       "    </tr>\n",
       "  </tbody>\n",
       "</table>\n",
       "</div>"
      ],
      "text/plain": [
       "                                                 Keywords\n",
       "sdg_1   [(poverty, 11.644), (poor, 6.769), (children, ...\n",
       "sdg_2   [(food, 9.425), (agricultural, 7.482), (farmer...\n",
       "sdg_3   [(health, 10.711), (care, 6.776), (patients, 5...\n",
       "sdg_4   [(education, 10.114), (students, 9.137), (scho...\n",
       "sdg_5   [(women, 13.266), (gender, 10.762), (girls, 5....\n",
       "sdg_6   [(water, 14.374), (groundwater, 6.041), (river...\n",
       "sdg_7   [(energy, 10.896), (electricity, 8.764), (powe...\n",
       "sdg_8   [(employment, 5.699), (labour, 5.196), (worker...\n",
       "sdg_9   [(innovation, 6.561), (infrastructure, 6.29), ...\n",
       "sdg_10  [(inequality, 9.234), (income, 4.676), (worker...\n",
       "sdg_11  [(urban, 7.739), (cities, 7.435), (city, 6.89)...\n",
       "sdg_12  [(waste, 8.735), (material, 4.323), (consumpti...\n",
       "sdg_13  [(climate, 10.55), (adaptation, 6.562), (emiss...\n",
       "sdg_14  [(fisheries, 10.154), (fish, 7.604), (fishing,...\n",
       "sdg_15  [(biodiversity, 9.887), (forest, 9.386), (fore...\n",
       "sdg_16  [(law, 5.743), (political, 4.543), (corruption..."
      ]
     },
     "metadata": {},
     "output_type": "display_data"
    }
   ],
   "source": [
    "'''check highest predictors to see if model learnt to make sense out of SDGs'''\n",
    "df_lambda = tools.get_topwords(clf, vectorizer, n = 10, n_models = 16, show_idxmax = True)\n",
    "print(f'Shape:{df_lambda.shape}')\n",
    "display(df_lambda)"
   ]
  }
 ],
 "metadata": {
  "kernelspec": {
   "display_name": "Python 3 (ipykernel)",
   "language": "python",
   "name": "python3"
  },
  "language_info": {
   "codemirror_mode": {
    "name": "ipython",
    "version": 3
   },
   "file_extension": ".py",
   "mimetype": "text/x-python",
   "name": "python",
   "nbconvert_exporter": "python",
   "pygments_lexer": "ipython3",
   "version": "3.10.13"
  }
 },
 "nbformat": 4,
 "nbformat_minor": 5
}
