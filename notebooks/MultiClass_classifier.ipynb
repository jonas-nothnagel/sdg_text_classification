{
 "cells": [
  {
   "attachments": {},
   "cell_type": "markdown",
   "id": "55433128",
   "metadata": {},
   "source": [
    "# MultiClass Classification with Sklearn"
   ]
  },
  {
   "cell_type": "code",
   "execution_count": 7,
   "id": "d80e7816",
   "metadata": {},
   "outputs": [],
   "source": [
    "import os\n",
    "import sys\n",
    "sys.path.insert(0, os.path.abspath(os.path.join('..', 'src')))\n",
    "sys.setrecursionlimit(20500)\n",
    "import pandas as pd\n",
    "\n",
    "\n",
    "from sklearn.metrics import make_scorer\n",
    "from sklearn.model_selection import train_test_split\n",
    "from sklearn.feature_extraction.text import TfidfVectorizer\n",
    "from sklearn.linear_model import LogisticRegression\n",
    "from sklearn.metrics import precision_score\n",
    "\n",
    "from sklearn.pipeline import Pipeline\n",
    "from sklearn.metrics import accuracy_score, confusion_matrix, classification_report\n",
    "from sklearn.model_selection import train_test_split, cross_val_score, GridSearchCV\n",
    "from sklearn.metrics import accuracy_score, f1_score, precision_score, recall_score, classification_report, confusion_matrix\n",
    "\n",
    "'''import helpers'''\n",
    "import tools as tools"
   ]
  },
  {
   "cell_type": "code",
   "execution_count": 8,
   "id": "d9298107",
   "metadata": {},
   "outputs": [],
   "source": [
    "'''import processed data'''\n",
    "df = pd.read_csv(os.path.abspath(os.path.join('..', 'data/processed/'))+'/data_processed.csv')"
   ]
  },
  {
   "cell_type": "code",
   "execution_count": 9,
   "id": "ccd8cab5",
   "metadata": {},
   "outputs": [
    {
     "data": {
      "text/html": [
       "<div>\n",
       "<style scoped>\n",
       "    .dataframe tbody tr th:only-of-type {\n",
       "        vertical-align: middle;\n",
       "    }\n",
       "\n",
       "    .dataframe tbody tr th {\n",
       "        vertical-align: top;\n",
       "    }\n",
       "\n",
       "    .dataframe thead th {\n",
       "        text-align: right;\n",
       "    }\n",
       "</style>\n",
       "<table border=\"1\" class=\"dataframe\">\n",
       "  <thead>\n",
       "    <tr style=\"text-align: right;\">\n",
       "      <th></th>\n",
       "      <th>doi</th>\n",
       "      <th>text_id</th>\n",
       "      <th>text</th>\n",
       "      <th>sdg</th>\n",
       "      <th>labels_negative</th>\n",
       "      <th>labels_positive</th>\n",
       "      <th>agreement</th>\n",
       "      <th>text_clean</th>\n",
       "    </tr>\n",
       "  </thead>\n",
       "  <tbody>\n",
       "    <tr>\n",
       "      <th>0</th>\n",
       "      <td>10.6027/9789289342698-7-en</td>\n",
       "      <td>00021941702cd84171ff33962197ca1f</td>\n",
       "      <td>\"From a gender perspective, Paulgaard points o...</td>\n",
       "      <td>5</td>\n",
       "      <td>1</td>\n",
       "      <td>8</td>\n",
       "      <td>0.777778</td>\n",
       "      <td>from a gender perspective paulgaard points out...</td>\n",
       "    </tr>\n",
       "    <tr>\n",
       "      <th>1</th>\n",
       "      <td>10.1787/9789264289062-4-en</td>\n",
       "      <td>0004eb64f96e1620cd852603d9cbe4d4</td>\n",
       "      <td>The average figure also masks large difference...</td>\n",
       "      <td>3</td>\n",
       "      <td>1</td>\n",
       "      <td>8</td>\n",
       "      <td>0.777778</td>\n",
       "      <td>the average figure also masks large difference...</td>\n",
       "    </tr>\n",
       "    <tr>\n",
       "      <th>2</th>\n",
       "      <td>10.1787/9789264117563-8-en</td>\n",
       "      <td>000bfb17e9f3a00d4515ab59c5c487e7</td>\n",
       "      <td>The Israel Oceanographic and Limnological Rese...</td>\n",
       "      <td>6</td>\n",
       "      <td>0</td>\n",
       "      <td>3</td>\n",
       "      <td>1.000000</td>\n",
       "      <td>the israel oceanographic and limnological rese...</td>\n",
       "    </tr>\n",
       "    <tr>\n",
       "      <th>3</th>\n",
       "      <td>10.18356/805b1ae4-en</td>\n",
       "      <td>001180f5dd9a821e651ed51e30d0cf8c</td>\n",
       "      <td>Previous chapters have discussed ways to make ...</td>\n",
       "      <td>2</td>\n",
       "      <td>0</td>\n",
       "      <td>3</td>\n",
       "      <td>1.000000</td>\n",
       "      <td>previous chapters have discussed ways to make ...</td>\n",
       "    </tr>\n",
       "    <tr>\n",
       "      <th>4</th>\n",
       "      <td>10.1017/S0008423907070424</td>\n",
       "      <td>00162fc8346ca9cd525d8f87ac2b5352</td>\n",
       "      <td>The “War on Terror” and the Framework of Inter...</td>\n",
       "      <td>16</td>\n",
       "      <td>0</td>\n",
       "      <td>7</td>\n",
       "      <td>1.000000</td>\n",
       "      <td>the war on terror and the framework of interna...</td>\n",
       "    </tr>\n",
       "  </tbody>\n",
       "</table>\n",
       "</div>"
      ],
      "text/plain": [
       "                          doi                           text_id  \\\n",
       "0  10.6027/9789289342698-7-en  00021941702cd84171ff33962197ca1f   \n",
       "1  10.1787/9789264289062-4-en  0004eb64f96e1620cd852603d9cbe4d4   \n",
       "2  10.1787/9789264117563-8-en  000bfb17e9f3a00d4515ab59c5c487e7   \n",
       "3        10.18356/805b1ae4-en  001180f5dd9a821e651ed51e30d0cf8c   \n",
       "4   10.1017/S0008423907070424  00162fc8346ca9cd525d8f87ac2b5352   \n",
       "\n",
       "                                                text  sdg  labels_negative  \\\n",
       "0  \"From a gender perspective, Paulgaard points o...    5                1   \n",
       "1  The average figure also masks large difference...    3                1   \n",
       "2  The Israel Oceanographic and Limnological Rese...    6                0   \n",
       "3  Previous chapters have discussed ways to make ...    2                0   \n",
       "4  The “War on Terror” and the Framework of Inter...   16                0   \n",
       "\n",
       "   labels_positive  agreement  \\\n",
       "0                8   0.777778   \n",
       "1                8   0.777778   \n",
       "2                3   1.000000   \n",
       "3                3   1.000000   \n",
       "4                7   1.000000   \n",
       "\n",
       "                                          text_clean  \n",
       "0  from a gender perspective paulgaard points out...  \n",
       "1  the average figure also masks large difference...  \n",
       "2  the israel oceanographic and limnological rese...  \n",
       "3  previous chapters have discussed ways to make ...  \n",
       "4  the war on terror and the framework of interna...  "
      ]
     },
     "execution_count": 9,
     "metadata": {},
     "output_type": "execute_result"
    }
   ],
   "source": [
    "df.head(5)"
   ]
  },
  {
   "cell_type": "code",
   "execution_count": 18,
   "id": "62fda9d5",
   "metadata": {},
   "outputs": [
    {
     "name": "stdout",
     "output_type": "stream",
     "text": [
      "train size: 17463\n",
      "test size: 3082\n"
     ]
    }
   ],
   "source": [
    "'''split test train'''\n",
    "X_train, X_test, y_train, y_test = train_test_split(df['text_clean'],\n",
    "                                                    df['sdg'].values,\n",
    "                                                    test_size = .15,\n",
    "                                                    stratify=df['sdg'].values,\n",
    "                                                    random_state = 1,\n",
    "                                                    shuffle = True)\n",
    "print('train size:', len(X_train))\n",
    "print('test size:', len(X_test))\n",
    "\n",
    "assert len(set(y_train)) == len(set(y_test)), \"Unequal splits with some labels missing\""
   ]
  },
  {
   "cell_type": "code",
   "execution_count": 19,
   "id": "8736b678",
   "metadata": {},
   "outputs": [],
   "source": [
    "'''extract features using tfidf vecorization:'''\n",
    "vectorizer = TfidfVectorizer(ngram_range = (1,2),min_df = 0.01, max_df = 0.95)\n",
    "vect = vectorizer.fit(X_train)\n",
    "X_train = vect.transform(X_train)\n",
    "X_test = vect.transform(X_test)"
   ]
  },
  {
   "cell_type": "code",
   "execution_count": 20,
   "id": "6a4a3455",
   "metadata": {},
   "outputs": [
    {
     "name": "stderr",
     "output_type": "stream",
     "text": [
      "/Users/jonas/opt/anaconda3/envs/sdg/lib/python3.9/site-packages/sklearn/linear_model/_logistic.py:458: ConvergenceWarning: lbfgs failed to converge (status=1):\n",
      "STOP: TOTAL NO. of ITERATIONS REACHED LIMIT.\n",
      "\n",
      "Increase the number of iterations (max_iter) or scale the data as shown in:\n",
      "    https://scikit-learn.org/stable/modules/preprocessing.html\n",
      "Please also refer to the documentation for alternative solver options:\n",
      "    https://scikit-learn.org/stable/modules/linear_model.html#logistic-regression\n",
      "  n_iter_i = _check_optimize_result(\n"
     ]
    },
    {
     "name": "stdout",
     "output_type": "stream",
     "text": [
      "Training accuracy: 90.0 %\n",
      "Test accuracy: 84.0 %\n"
     ]
    },
    {
     "data": {
      "image/png": "[encoded data removed]",
      "text/plain": [
       "<Figure size 1000x800 with 2 Axes>"
      ]
     },
     "metadata": {},
     "output_type": "display_data"
    }
   ],
   "source": [
    "clf = LogisticRegression(solver = 'lbfgs', multi_class = 'multinomial', penalty='l2').fit(X_train, y_train)\n",
    "print('Training accuracy:', clf.score(X_train, y_train).round(2)*100, \"%\")\n",
    "print('Test accuracy:', clf.score(X_test, y_test).round(2)*100, \"%\")\n",
    "y_hat = clf.predict(X_test)\n",
    "tools.show_labels(y_test, y_hat, title = 'Logistic Regression Clasifier', class_range = (1,17))"
   ]
  },
  {
   "cell_type": "code",
   "execution_count": 13,
   "id": "3a5c343d",
   "metadata": {},
   "outputs": [
    {
     "name": "stdout",
     "output_type": "stream",
     "text": [
      "              precision    recall  f1-score   support\n",
      "\n",
      "           1       0.83      0.85      0.84       226\n",
      "           2       0.78      0.74      0.76       152\n",
      "           3       0.82      0.89      0.85       358\n",
      "           4       0.90      0.96      0.93       452\n",
      "           5       0.90      0.90      0.90       467\n",
      "           6       0.90      0.90      0.90       257\n",
      "           7       0.84      0.88      0.86       355\n",
      "           8       0.63      0.52      0.57       166\n",
      "           9       0.68      0.75      0.71       250\n",
      "          10       0.77      0.59      0.67       157\n",
      "          11       0.76      0.78      0.77       245\n",
      "          12       0.83      0.54      0.66        92\n",
      "          13       0.80      0.80      0.80       209\n",
      "          14       0.91      0.73      0.81       143\n",
      "          15       0.89      0.84      0.86       202\n",
      "          16       0.89      0.97      0.93       378\n",
      "\n",
      "    accuracy                           0.84      4109\n",
      "   macro avg       0.82      0.79      0.80      4109\n",
      "weighted avg       0.83      0.84      0.83      4109\n",
      "\n"
     ]
    }
   ],
   "source": [
    "print(classification_report(y_test, y_hat))"
   ]
  },
  {
   "cell_type": "code",
   "execution_count": 21,
   "id": "1cc0e771",
   "metadata": {},
   "outputs": [
    {
     "ename": "AttributeError",
     "evalue": "'TfidfVectorizer' object has no attribute 'get_feature_names'",
     "output_type": "error",
     "traceback": [
      "\u001b[0;31m---------------------------------------------------------------------------\u001b[0m",
      "\u001b[0;31mAttributeError\u001b[0m                            Traceback (most recent call last)",
      "\u001b[1;32m/Users/jonas/Library/CloudStorage/GoogleDrive-jonas.nothnagel@gmail.com/My Drive/GIZ/coding/sdg_text_classification/notebooks/MultiClass_classifier.ipynb Cell 9\u001b[0m line \u001b[0;36m2\n\u001b[1;32m      <a href='vscode-notebook-cell:/Users/jonas/Library/CloudStorage/GoogleDrive-jonas.nothnagel%40gmail.com/My%20Drive/GIZ/coding/sdg_text_classification/notebooks/MultiClass_classifier.ipynb#X11sZmlsZQ%3D%3D?line=0'>1</a>\u001b[0m \u001b[39m'''check highest predictors to see if model learnt to make sense out of SDGs'''\u001b[39;00m\n\u001b[0;32m----> <a href='vscode-notebook-cell:/Users/jonas/Library/CloudStorage/GoogleDrive-jonas.nothnagel%40gmail.com/My%20Drive/GIZ/coding/sdg_text_classification/notebooks/MultiClass_classifier.ipynb#X11sZmlsZQ%3D%3D?line=1'>2</a>\u001b[0m df_lambda \u001b[39m=\u001b[39m tools\u001b[39m.\u001b[39;49mget_topwords(clf, vectorizer, n \u001b[39m=\u001b[39;49m \u001b[39m10\u001b[39;49m, n_models \u001b[39m=\u001b[39;49m \u001b[39m16\u001b[39;49m, show_idxmax \u001b[39m=\u001b[39;49m \u001b[39mTrue\u001b[39;49;00m)\n\u001b[1;32m      <a href='vscode-notebook-cell:/Users/jonas/Library/CloudStorage/GoogleDrive-jonas.nothnagel%40gmail.com/My%20Drive/GIZ/coding/sdg_text_classification/notebooks/MultiClass_classifier.ipynb#X11sZmlsZQ%3D%3D?line=2'>3</a>\u001b[0m \u001b[39mprint\u001b[39m(\u001b[39mf\u001b[39m\u001b[39m'\u001b[39m\u001b[39mShape:\u001b[39m\u001b[39m{\u001b[39;00mdf_lambda\u001b[39m.\u001b[39mshape\u001b[39m}\u001b[39;00m\u001b[39m'\u001b[39m)\n\u001b[1;32m      <a href='vscode-notebook-cell:/Users/jonas/Library/CloudStorage/GoogleDrive-jonas.nothnagel%40gmail.com/My%20Drive/GIZ/coding/sdg_text_classification/notebooks/MultiClass_classifier.ipynb#X11sZmlsZQ%3D%3D?line=3'>4</a>\u001b[0m display(df_lambda)\n",
      "File \u001b[0;32m~/Library/CloudStorage/GoogleDrive-jonas.nothnagel@gmail.com/My Drive/GIZ/coding/sdg_text_classification/src/tools.py:107\u001b[0m, in \u001b[0;36mget_topwords\u001b[0;34m(logit_model, vectorizer, n_models, n, show_idxmax)\u001b[0m\n\u001b[1;32m     82\u001b[0m \u001b[39mdef\u001b[39;00m \u001b[39mget_topwords\u001b[39m(logit_model, vectorizer, n_models:\u001b[39mint\u001b[39m \u001b[39m=\u001b[39m \u001b[39m15\u001b[39m, n:\u001b[39mint\u001b[39m \u001b[39m=\u001b[39m \u001b[39m30\u001b[39m, show_idxmax:\u001b[39mbool\u001b[39m \u001b[39m=\u001b[39m \u001b[39mTrue\u001b[39;00m) \u001b[39m-\u001b[39m\u001b[39m>\u001b[39m pd\u001b[39m.\u001b[39mDataFrame:\n\u001b[1;32m     83\u001b[0m \u001b[39m    \u001b[39m\u001b[39m\"\"\"\u001b[39;00m\n\u001b[1;32m     84\u001b[0m \u001b[39m    Extract top n predictors with highest coefficients from a logistic regression model and vectorizer object.\u001b[39;00m\n\u001b[1;32m     85\u001b[0m \u001b[39m    \u001b[39;00m\n\u001b[0;32m   (...)\u001b[0m\n\u001b[1;32m    102\u001b[0m \u001b[39m    \u001b[39;00m\n\u001b[1;32m    103\u001b[0m \u001b[39m    \"\"\"\u001b[39;00m\n\u001b[1;32m    106\u001b[0m     df_lambda \u001b[39m=\u001b[39m pd\u001b[39m.\u001b[39mDataFrame(logit_model\u001b[39m.\u001b[39mcoef_,\n\u001b[0;32m--> 107\u001b[0m                          columns \u001b[39m=\u001b[39m vectorizer\u001b[39m.\u001b[39;49mget_feature_names(),\n\u001b[1;32m    108\u001b[0m                          index \u001b[39m=\u001b[39m [\u001b[39mf\u001b[39m\u001b[39m'\u001b[39m\u001b[39msdg_\u001b[39m\u001b[39m{\u001b[39;00mx\u001b[39m}\u001b[39;00m\u001b[39m'\u001b[39m \u001b[39mfor\u001b[39;00m x \u001b[39min\u001b[39;00m \u001b[39mrange\u001b[39m(\u001b[39m1\u001b[39m,n_models\u001b[39m+\u001b[39m\u001b[39m1\u001b[39m)])\u001b[39m.\u001b[39mround(\u001b[39m3\u001b[39m)\n\u001b[1;32m    110\u001b[0m     \u001b[39mif\u001b[39;00m show_idxmax:\n\u001b[1;32m    111\u001b[0m         display(df_lambda\u001b[39m.\u001b[39midxmax(axis \u001b[39m=\u001b[39m \u001b[39m1\u001b[39m))\n",
      "\u001b[0;31mAttributeError\u001b[0m: 'TfidfVectorizer' object has no attribute 'get_feature_names'"
     ]
    }
   ],
   "source": [
    "'''check highest predictors to see if model learnt to make sense out of SDGs'''\n",
    "df_lambda = tools.get_topwords(clf, vectorizer, n = 10, n_models = 16, show_idxmax = True)\n",
    "print(f'Shape:{df_lambda.shape}')\n",
    "display(df_lambda)"
   ]
  },
  {
   "cell_type": "code",
   "execution_count": null,
   "id": "ebf158d6",
   "metadata": {},
   "outputs": [],
   "source": []
  }
 ],
 "metadata": {
  "kernelspec": {
   "display_name": "Python 3 (ipykernel)",
   "language": "python",
   "name": "python3"
  },
  "language_info": {
   "codemirror_mode": {
    "name": "ipython",
    "version": 3
   },
   "file_extension": ".py",
   "mimetype": "text/x-python",
   "name": "python",
   "nbconvert_exporter": "python",
   "pygments_lexer": "ipython3",
   "version": "3.9.17"
  }
 },
 "nbformat": 4,
 "nbformat_minor": 5
}
